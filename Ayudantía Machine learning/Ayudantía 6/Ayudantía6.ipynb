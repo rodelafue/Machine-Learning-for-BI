{
 "cells": [
  {
   "cell_type": "markdown",
   "metadata": {},
   "source": [
    "# Neural Networks"
   ]
  },
  {
   "cell_type": "markdown",
   "metadata": {},
   "source": [
    "There is so much that I don't know where to begin. Let's try with...Once upon a time there was a Neuron and it thought!!!\n",
    "<img src = images/neuron.png width=\"350\" height=\"450\">\n",
    "Inspired by modern models of how neurons work, we can propose a mathematical model to simulate how we recognize images and/or classify objects. "
   ]
  },
  {
   "cell_type": "markdown",
   "metadata": {},
   "source": [
    "## Neural Network Math\n",
    "Taken from The elements of Statistical learning by Hastie, Tibshirani and Friedman, Chapter 11: Neural Networks , from pages 389."
   ]
  },
  {
   "cell_type": "markdown",
   "metadata": {},
   "source": [
    "## Idea in mathematic language\n",
    "Assume we have an input vector $X$ with $p$ components, and a target $Y$. Let $w_{m}$, $m=1,2,...,M$, be unit $p$-vectors of unkwnown parameters. The projection pursuit regression (PPR) model has the form\n",
    "\n",
    "- $f(X) = \\sum_{m=1}^{M} g_{m}(w_{m}^{T}X)$\n",
    "\n",
    "<img src = images/PPR.png  width=\"500\" height=\"600\">\n",
    "\n",
    "This is an additive model, but in the derived features $V_{m} = w_{m}^{T}X$ rather than the inputs themselves. The functions $g_{m}$ are unspecified and are estimated along with the directions $w_{m}$ using some flexible smoothing method.\n",
    "\n",
    "The function $g_{m}(w_{m}^{T} X)$ is called a ridge function in $\\mathbb{R}$. It varies only in the direction defined by the vector $w_{m}$. The scalar variable $V_{m} = w_{m}^{T}X$ is the projection of $X$ onto the unit vector $w_{m}$, and we seek $w_{m}$ so that the model fits well, hence the name “projection pursuit.” \n",
    "\n",
    "The PPR model is very general, since the operation of forming nonlinear functions of linear combinations generates a surprisingly large class of models. For example, the product $X_1 · X_2$ can be written as $[(X_1 + X_2)^2 − (X_1 − X_2)^2]/4$, and higher-order products can be represented similarly.\n",
    "\n",
    "In fact, if $M$ is taken arbitrarily large, for appropriate choice of $g_m$ the PPR model can approximate any continuous function in $\\mathbb{R}$ arbitrarily well. Such a class of models is called a universal approximator. However this generality comes at a price. Interpretation of the fitted model is usually difficult, because each input enters into the model in a complex and multi-faceted way. As a result, the PPR model is most useful for prediction, and *not very useful for producing an understandable model for the data*. The $M = 1$ model, known as the single index model in econometrics, is an exception. It is slightly more general than the linear regression model, and offers a similar interpretation.\n",
    "\n",
    "How do we fit a PPR model, given training data $(x_i,y_i), i = 1,2,...,N$? We seek the approximate minimizers of the error function\n",
    " \n",
    " - $\\sum_{i=1}^{N}(y_{i}-\\sum_{m=1}^{M}g_{m}(w_{m}^{T}x_{i}))^2$\n",
    " \n",
    "over functions $g_m$ and direction vectors $w_m, m = 1, 2,..., M$. As in other smoothing problems, we need either explicitly or implicitly to impose complexity constraints on the $g_m$, to avoid overfit solutions.\n",
    "\n",
    "Consider just one term ($M = 1$, and drop the subscript). Given the direction vector $w$, we form the derived variables $v_i = w^{T} x_{i}$. Then we have a one-dimensional smoothing problem, and we can apply any scatterplot smoother, such as a smoothing spline, to obtain an estimate of $g$.\n",
    "\n",
    "On the other hand, given $g$, we want to minimize (11.2) over $w$. A Gauss–Newton search is convenient for this task. This is a quasi-Newton method, in which the part of the Hessian involving the second derivative of $g$ is discarded. It can be simply derived as follows. Let ωold be the current estimate for $w$. We write\n",
    "\n",
    "$g(w^T x_i) \\approx g(w^T x_i)+g^{'}(w_{old}^T x_i)(w−w_{old})^T x_i$\n",
    "\n",
    "to give\n",
    "\n",
    "$\\sum_{i=1}^{N}(y_i-g(w^Tx_i))^2 \\approx \\sum_{i=1}^T g^{'}(w_{old}^T x_i)^2((w_{old}^{T}x_i+\\frac{y_i-g(w_{old}^T x_i)}{g^{'}(w_{old}^T x_i)})-w^T x_i)^2$\n",
    "\n",
    "\n",
    "To minimize the right-hand side, we carry out a least squares regression with target $w_{old}^{T}x_i+(yi −g(w_{old}^T x_i))/g^{′}(w_{old}^T x_i)$ on the input $x_i$, with weights $g^{′}(w_{old}^T x_i)^2$ and no intercept (bias) term. This produces the updated coefficient vector $w_new$.\n",
    "These two steps, estimation of $g$ and $w$, are iterated until convergence. With more than one term in the PPR model, the model is built in a forward stage-wise manner, adding a pair $(w_m,g_m)$ at each stage.\n",
    "There are a number of implementation details.\n",
    "\n",
    "- Although any smoothing method can in principle be used, it is convenient if the method provides derivatives. Local regression and smoothing splines are convenient.\n",
    "- After each step the $g_m$’s from previous steps can be readjusted using the backfitting procedure. While this may lead ultimately to fewer terms, it is not clear whether it improves prediction performance.\n",
    "- Usually the $w_m$ are not readjusted (partly to avoid excessive computation), although in principle they could be as well.\n",
    "- The number of terms $M$ is usually estimated as part of the forward stage-wise strategy. The model building stops when the next term does not appreciably improve the fit of the model. Cross-validation can also be used to determine $M$."
   ]
  },
  {
   "cell_type": "markdown",
   "metadata": {},
   "source": [
    "### \"Vainilla\" Neural Network\n",
    "\n",
    "Here we describe the most widely used, sometimes called the single hidden layer back-propagation network, single layer perceptron.\n",
    "\n",
    "A neural network is a two-stage regression or classification model, typically represented by a network diagram as shown in the next Figure. \n",
    "<img src = images/hnn.jpeg width=\"500\" height=\"600\">\n",
    "This network applies both to regression or classification. For regression, typically $K = 1$ and there is only one output unit $Y_1$ at the top. However, these networks can handle multiple quantitative responses in a seamless fashion, so we will deal with the general case.\n",
    "\n",
    "For $K$-class classification, there are $K$ units at the top, with the $k$-th unit modeling the probability of class $k$. There are $K$ target measurements $Y_k, k=1,...,K$, each being coded as a 0−1 variable for the $k$-th class.\n",
    "\n",
    "Derived features $Z_m$ are created from linear combinations of the inputs, and then the target $Y_k$ is modeled as a function of linear combinations of the $Z_m$,\n",
    "\n",
    "$Z_m= \\sigma(\\delta_{0m}+\\delta_{m}^{T}X) , m=1,...,M ,$\n",
    "\n",
    "$T_k =\\beta_{0k}+\\beta_{k}^{T}Z, k=1,...,K,$\n",
    "\n",
    "$f_k(X) = g_k(T), k = 1,...,K,$\n",
    "\n",
    "where $Z = (Z_1,Z_2,...,Z_M)$, and $T = (T_1,T_2,...,T_K)$.\n",
    "The activation function $\\sigma(v)$ is usually chosen to be the sigmoid $\\sigma(v) = 1/(1 + e−v )$; the next figure shows a plot of $1/(1 + e^{−v})$.\n",
    "\n",
    "<img src = images/sigmoid.png width=\"500\" height=\"600\">\n",
    "\n",
    "Neural network diagrams are sometimes drawn with an additional bias unit feeding into every unit in the hidden and output layers.\n",
    "\n",
    "Thinking of the constant “1” as an additional input feature, this bias unit captures the intercepts $α_{0m}$ and $β_{0k}$ in the above model.\n",
    "\n",
    "The output function $g_k(T)$ allows a final transformation of the vector of outputs $T$ . For regression we typically choose the identity function $g_k (T ) = T_k$. Early work in $K$-class classification also used the identity function, but this was later abandoned in favor of the softmax function\n",
    "\n",
    "$gk(T) = \\frac{eTk}{\\sum^{K}_{l=1}e^{T_{l}}}$\n",
    "\n",
    "The units in the middle of the network, computing the derived features $Z_m$, are called _hidden units_ because the values $Z_m$ are not directly observed. In general there can be more than one hidden layer. We can think of the $Z_m$ as a basis expansion of the original inputs $X$; the neural network is then a standard linear model, or linear multilogit model, using these transformations as inputs. There is, however, an important enhancement over the basis-expansion techniques; here the parameters of the basis functions are learned from the data.\n",
    "\n",
    "Notice that if $\\sigma$ is the identity function, then the entire model collapses to a linear model in the inputs. Hence a neural network can be thought of as a *nonlinear* generalization of the linear model, both for regression and classification. By introducing the nonlinear transformation $\\delta$, it greatly enlarges the class of linear models. We see that the rate of activation of the sigmoid depends on the norm of $\\alpha_{m}$, and if $|\\alpha_m|$ is very small, the unit will indeed be operating in the linear part of its activation function.\n",
    "\n",
    "Notice also that the neural network model with one hidden layer has exactly the same form as the projection pursuit model described above. The difference is that the PPR model uses *nonparametric* functions $g_m(v)$, while the neural network uses a far simpler function based on \\sigma(v)$, with three free parameters in its argument. In detail, viewing the neural network model as a PPR model, we identify\n",
    "\n",
    "$g_m(w_m^T X) = \\beta_{m}\\sigma(\\alpha_{0m} + \\alpha_{m}^{T} X) = \\beta_{m}\\sigma(\\alpha_{0m} + |\\alpha_{m}|(w_{m}^{T} X))$\n",
    "\n",
    "where $w_m = \\alpha_{m}/|\\alpha_m|$ is the $m$-th unitvector. Since $\\sigma_{\\beta,\\alpha_{0},s}(v)= \\beta \\sigma(\\alpha_{0} + sv)$ has lower complexity than a more general nonparametric $g(v)$, it is not surprising that a neural network might use 20 or 100 such functions, while the PPR model typically uses fewer terms ($M = 5$ or $10$, for example).\n",
    "\n",
    "Finally, we note that the name _“neural networks”_ derives from the fact that they were first developed as models for the human brain. Each unit represents a neuron, and the connections represent synapses. In early models, the neurons fired when the total signal passed to that unit exceeded a certain threshold. In the model above, this corresponds to use of a step function for $\\sigma(Z)$ and $g_m(T)$. Later the neural network was recognized as a useful tool for nonlinear statistical modeling, and for this purpose the step function is not smooth enough for optimization. Hence the step function was replaced by a smoother threshold function, the sigmoid."
   ]
  },
  {
   "cell_type": "markdown",
   "metadata": {},
   "source": [
    "### Fitting Neural Networks\n",
    "The neural network model has unknown parameters, often called *weights*, and we seek values for them that make the model fit the training data well. We denote the complete set of weights by $\\Theta$, which consists of\n",
    "\n",
    "${\\alpha_{0m},\\alpha_m; m=1,2,...,M}$  $M(p+1)$weights, \n",
    "\n",
    "${\\beta_{0k},\\beta_{k}; k=1,2,...,K}$  $K(M+1)$weights.\n",
    "\n",
    "For regression, we use sum-of-squared errors as our measure of fit (error function):\n",
    "- $R(\\theta)=\\sum_{k=1}^{K}\\sum_{i=1}^{N}(y_{ik}-f_{k}(x_{i}))^{2}$\n",
    "\n",
    "For classification we use either squared error or cross-entropy (deviance):\n",
    "- $R(\\theta)=-\\sum_{k=1}^{K}\\sum_{i=1}^{N}y_{ik}\\log(f{k}(x_{i}))$\n",
    "\n",
    "and the corresponding classifier is $G(x) = argmax_{k}f_{k}(x)$. With the softmax activation function and the cross-entropy error function, the neural network model is exactly a linear logistic regression model in the hidden units, and all the parameters are estimated by maximum likelihood.\n",
    "\n",
    "Typically we don’t want the global minimizer of $R(\\Theta)$, as this is likely to be an overfit solution. Instead some regularization is needed: this is achieved directly through a penalty term, or indirectly by *early stopping*. Details are given in the next section.\n",
    "\n",
    "The generic approach to minimizing $R(\\Theta)$ is by *gradient descent*, called _back-propagation_ in this setting. Because of the compositional form of the model, the gradient can be easily derived using the chain rule for differentiation. This can be computed by a forward and backward sweep over the network, keeping track only of quantities local to each unit.\n",
    "\n",
    "Here is back-propagation in detail for squared error loss. Let $z_{mi} = \\sigma(\\alpha_{0m} + \\alpha_{m}^{T} x_{i})$, from and let $z_i =(z_{1i},z_{2i},...,z_{Mi})$. Then we have \n",
    "\n",
    "$R(\\Theta) = \\sum_{i=1}^{N} R_{i} = \\sum_{i=1}^{N}\\sum_{k=1}^{K} (y_{ik}-f_{k}(x_i))^2$\n",
    "\n",
    "with derivatives\n",
    "\n",
    "$\\frac{\\partial R_{i}}{\\partial \\beta_{km}}  = -2(y_{ik}-f_{k}(x_i))g_{k}^{'}(\\beta_{k}^{T}z_{i})z_{mi}$\n",
    "\n",
    "$\\frac{\\partial R_{i}}{\\partial \\alpha_{ml}}  = -\\sum_{k=1}^{K}2(y_{ik}-f_{k}(x_{i}))g_{k}^{'}(\\beta_{k}^{T}z_{i})\\beta_{km}\\sigma^{'}(\\alpha_{m}^T x_{i})x_{il}$\n",
    "\n",
    "Given these derivatives, a gradient descent update at the $(r + 1)$st iteration has the form\n",
    "\n",
    "$\\beta_{km}^{(r+1)} = \\beta_{km}^{(r)} - \\gamma_r \\sum_{i=1}^{N} \\frac{\\partial R_{i}}{\\partial \\beta_{km}^{(r)}},$\n",
    "\n",
    "$\\alpha{ml}^{(r+1)} = \\alpha{ml}^{(r)} - \\gamma_r \\sum_{i=1}^{N} \\frac{\\partial R_{i}}{\\partial \\alpha{ml}^{(r)}},$\n",
    " \n",
    "where $\\gamma_{r}$ is the learning rate.\n",
    "\n",
    "<img src = images/learning.png>\n",
    "\n",
    "Now we rewrite the partial derivaties:\n",
    "\n",
    "$\\frac{\\partial R_{i}}{\\partial \\beta_{km}}  = \\delta_{ki}z_{mi}$\n",
    "\n",
    "$\\frac{\\partial R_{i}}{\\partial \\alpha_{ml}}  = s_{mi}x_{il}$\n",
    "  \n",
    "The quantities $\\delta_{ki}$ and $s_{mi}$ are “errors” from the current model at the output and hidden layer units, respectively. From their definitions, these errors satisfy \n",
    "\n",
    "$s_{mi}x_{il} = \\sigma^{'}(\\alpha_{m}^{T}x_{i})\\sum_{k=1}^{K}\\beta_{km}\\delta_{ki}$\n",
    "\n",
    "known as the back-propagation equations. Using this, the updates can be implemented with a two-pass algorithm. In the forward pass, the current weights are fixed and the predicted values $\\hat(f_{k})(x_i)$ are computed $k_i$ from the last formula. In the backward pass, the errors $\\delta{ki}$ are computed, and then back-propagated via the last formula to give the errors $s_{mi}$. Both sets of errors are then used to compute the gradients for the updates.\n",
    "\n",
    "The advantages of back-propagation are its simple, local nature. In the back propagation algorithm, each hidden unit passes and receives infor-mation only to and from units that share a connection. Hence it can be implemented efficiently on a parallel architecture computer.\n",
    "\n",
    "The learning rate $\\gamma_r$ for batch learning is usually taken to be a constant, and can also be optimized by a line search that minimizes the error function at each update. With online learning $\\gamma_r$ should decrease to zero as the iteration $r \\gets \\infty$. This learning is a form of _stochastic approximation_; results in this field ensure convergence if $ \\gamma_r \\gets 0$, $\\sum_{r} \\gamma_r = \\infty$, and $\\sum_{r} \\gamma_r^2 < \\infty$ (satisfied, for example, by $\\gamma_r = 1/r$).\n",
    "\n",
    "Back-propagation can be very slow, and for that reason is usually not the method of choice. Second-order techniques such as Newton’s method are not attractive here, because the second derivative matrix of $R$ (the Hessian) can be very large. Better approaches to fitting include conjugate gradients and variable metric methods. These avoid explicit computation of the second derivative matrix while still providing faster convergence."
   ]
  },
  {
   "cell_type": "markdown",
   "metadata": {},
   "source": [
    "# Some usefull techniques\n",
    "## [Dropout](https://machinelearningmastery.com/dropout-for-regularizing-deep-neural-networks/) \n",
    "\n",
    "### Problem With Overfitting\n",
    "\n",
    "Large neural nets trained on relatively small datasets can overfit the training data.\n",
    "\n",
    "This has the effect of the model learning the statistical noise in the training data, which results in poor performance when the model is evaluated on new data, e.g. a test dataset. Generalization error increases due to overfitting.\n",
    "\n",
    "One approach to reduce overfitting is to fit all possible different neural networks on the same dataset and to average the predictions from each model. This is not feasible in practice, and can be approximated using a small collection of different models, called an ensemble.\n",
    "\n",
    "A problem even with the ensemble approximation is that it requires multiple models to be fit and stored, which can be a challenge if the models are large, requiring days or weeks to train and tune.\n",
    "\n",
    "### Randomly Drop Nodes\n",
    "\n",
    "Dropout is a regularization method that approximates training a large number of neural networks with different architectures in parallel.\n",
    "\n",
    "During training, some number of layer outputs are randomly ignored or “dropped out.” This has the effect of making the layer look-like and be treated-like a layer with a different number of nodes and connectivity to the prior layer. In effect, each update to a layer during training is performed with a different “view” of the configured layer.\n",
    "\n",
    "Dropout has the effect of making the training process noisy, forcing nodes within a layer to probabilistically take on more or less responsibility for the inputs.\n",
    "\n",
    "This conceptualization suggests that perhaps dropout breaks-up situations where network layers co-adapt to correct mistakes from prior layers, in turn making the model more robust.\n",
    "\n",
    "Dropout simulates a sparse activation from a given layer, which interestingly, in turn, encourages the network to actually learn a sparse representation as a side-effect. As such, it may be used as an alternative to activity regularization for encouraging sparse representations in autoencoder models.\n",
    "\n",
    "Because the outputs of a layer under dropout are randomly subsampled, it has the effect of reducing the capacity or thinning the network during training. As such, a wider network, e.g. more nodes, may be required when using dropout.\n",
    "\n",
    "<img src = images/Dropout.png width=\"500\" height=\"600\">\n",
    "\n",
    "### How to Dropout\n",
    "\n",
    "Dropout is implemented per-layer in a neural network.\n",
    "\n",
    "It can be used with most types of layers, such as dense fully connected layers, convolutional layers, and recurrent layers such as the long short-term memory network layer.\n",
    "\n",
    "Dropout may be implemented on any or all hidden layers in the network as well as the visible or input layer. It is not used on the output layer.\n",
    "\n",
    "A new hyperparameter is introduced that specifies the probability at which outputs of the layer are dropped out, or inversely, the probability at which outputs of the layer are retained. The interpretation is an implementation detail that can differ from paper to code library.\n",
    "\n",
    "A common value is a probability of 0.5 for retaining the output of each node in a hidden layer and a value close to 1.0, such as 0.8, for retaining inputs from the visible layer.\n",
    "\n",
    "Dropout is not used after training when making a prediction with the fit network.\n",
    "\n",
    "The weights of the network will be larger than normal because of dropout. Therefore, before finalizing the network, the weights are first scaled by the chosen dropout rate. The network can then be used as per normal to make predictions.\n",
    "\n",
    "The rescaling of the weights can be performed at training time instead, after each weight update at the end of the mini-batch. This is sometimes called “inverse dropout” and does not require any modification of weights during training. Both the Keras and PyTorch deep learning libraries implement dropout in this way.\n",
    "\n",
    "Dropout works well in practice, perhaps replacing the need for weight regularization (e.g. weight decay) and activation regularization (e.g. representation sparsity).\n",
    "\n",
    "But carefule where to put them and how much to set the prob's dude! (read [here](https://stackoverflow.com/questions/44695141/convolutional-neural-network-dropout-kills-performance?rq=1))\n",
    "\n",
    "## [Early Stopping](https://en.wikipedia.org/wiki/Early_stopping)\n",
    "\n",
    "Early stopping is a form of regularization used to avoid overfitting when training a learner with an iterative method, such as gradient descent. Such methods update the learner so as to make it better fit the training data with each iteration. Up to a point, this improves the learner's performance on data outside of the training set. Past that point, however, improving the learner's fit to the training data comes at the expense of increased generalization error. Early stopping rules provide guidance as to how many iterations can be run before the learner begins to over-fit. Early stopping rules have been employed in many different machine learning methods, with varying amounts of theoretical foundation.\n",
    "<img src = images/early_stopping.png width=\"500\" height=\"600\">"
   ]
  },
  {
   "cell_type": "markdown",
   "metadata": {},
   "source": [
    "## Multilayer Perceptron --> Going into DEEP\n",
    "\n",
    "<img src = images/neural.png width=\"500\" height=\"600\">"
   ]
  },
  {
   "cell_type": "markdown",
   "metadata": {},
   "source": [
    "## Some Notes on Neural Nets\n",
    "<img src = images/activation_functions.png>\n",
    "\n",
    "<img src = images/types.png width=\"700\" height=\"800\">"
   ]
  },
  {
   "cell_type": "markdown",
   "metadata": {},
   "source": [
    "### Some technical things\n",
    "*SCALE YOUR DATA*: NN are really heavyly sensitive to the data's scale, scalling to 0,1 could help making faster and better the prediction/detection. \n",
    "\n",
    "Always split the data en [Train, Validation and Test](https://machinelearningmastery.com/difference-test-validation-datasets/) sub-sets:\n",
    "<img src = images/train_val_test.png width=\"400\" height=\"500\">\n",
    " - Training Dataset: The sample of data used to fit the model.\n",
    " - Validation Dataset: The sample of data used to provide an unbiased evaluation of a model fit on the training dataset while tuning model hyperparameters. The evaluation becomes more biased as skill on the validation dataset is incorporated into the model configuration.\n",
    " - Test Dataset: The sample of data used to provide an unbiased evaluation of a final model fit on the training dataset.\n",
    "\n",
    "Choose wisely metric, remember the clasic ones:\n",
    "<img src = images/aprf1_eq.jpg>\n",
    "<img src = images/pre_rec.png>"
   ]
  },
  {
   "cell_type": "markdown",
   "metadata": {},
   "source": [
    "## Optimizers\n",
    "<img src = images/opti.png>"
   ]
  },
  {
   "cell_type": "markdown",
   "metadata": {},
   "source": [
    "# UFFF that was harsh, Let's play now\n",
    "\n",
    "## Neural Network with KERAS\n",
    "It wraps the efficient numerical computation libraries Theano and TensorFlow and allows you to define and train neural network models in a few short lines of code."
   ]
  },
  {
   "cell_type": "code",
   "execution_count": 2,
   "metadata": {},
   "outputs": [
    {
     "name": "stderr",
     "output_type": "stream",
     "text": [
      "/anaconda3/lib/python3.6/site-packages/h5py/__init__.py:34: FutureWarning: Conversion of the second argument of issubdtype from `float` to `np.floating` is deprecated. In future, it will be treated as `np.float64 == np.dtype(float).type`.\n",
      "  from ._conv import register_converters as _register_converters\n",
      "Using TensorFlow backend.\n"
     ]
    }
   ],
   "source": [
    "from __future__ import print_function\n",
    "import keras\n",
    "import pandas as pd\n",
    "from keras.datasets import mnist\n",
    "from keras.models import Sequential,model_from_json\n",
    "from keras.layers import Dense, Dropout, Flatten, Conv2D, MaxPooling2D\n",
    "from keras.callbacks import EarlyStopping\n",
    "from keras.utils import to_categorical\n",
    "from keras import backend as K\n",
    "from keras import optimizers\n",
    "import matplotlib.pyplot as plt\n",
    "import numpy\n",
    "import os\n",
    "from numpy import loadtxt\n",
    "%matplotlib inline"
   ]
  },
  {
   "cell_type": "code",
   "execution_count": null,
   "metadata": {
    "collapsed": true
   },
   "outputs": [],
   "source": [
    "def plot(loss,val_loss,score):\n",
    "    \"\"\"\n",
    "    This function plot the evolution by epochs of he neurnal network training\n",
    "    \"\"\"\n",
    "    plt.clf()\n",
    "    plt.plot(loss,color='k',label='train')\n",
    "    plt.plot(val_loss,color='b')\n",
    "    plt.axhline(score,linestyle='--',color='r')\n",
    "    plt.title('model loss')\n",
    "    plt.ylabel('loss')\n",
    "    plt.xlabel('epoch')\n",
    "    plt.plot(len(loss)-1, score, '*', color='r', markersize=10)\n",
    "    plt.legend(['Train', 'Validation','Test'], loc='upper left')\n",
    "    plt.show()"
   ]
  },
  {
   "cell_type": "markdown",
   "metadata": {},
   "source": [
    "In this first model, we are going to predict the hourly wages of employees."
   ]
  },
  {
   "cell_type": "code",
   "execution_count": 3,
   "metadata": {},
   "outputs": [
    {
     "data": {
      "text/html": [
       "<div>\n",
       "<style scoped>\n",
       "    .dataframe tbody tr th:only-of-type {\n",
       "        vertical-align: middle;\n",
       "    }\n",
       "\n",
       "    .dataframe tbody tr th {\n",
       "        vertical-align: top;\n",
       "    }\n",
       "\n",
       "    .dataframe thead th {\n",
       "        text-align: right;\n",
       "    }\n",
       "</style>\n",
       "<table border=\"1\" class=\"dataframe\">\n",
       "  <thead>\n",
       "    <tr style=\"text-align: right;\">\n",
       "      <th></th>\n",
       "      <th>wage_per_hour</th>\n",
       "      <th>union</th>\n",
       "      <th>education_yrs</th>\n",
       "      <th>experience_yrs</th>\n",
       "      <th>age</th>\n",
       "      <th>female</th>\n",
       "      <th>marr</th>\n",
       "      <th>south</th>\n",
       "      <th>manufacturing</th>\n",
       "      <th>construction</th>\n",
       "    </tr>\n",
       "  </thead>\n",
       "  <tbody>\n",
       "    <tr>\n",
       "      <th>0</th>\n",
       "      <td>5.10</td>\n",
       "      <td>0</td>\n",
       "      <td>8</td>\n",
       "      <td>21</td>\n",
       "      <td>35</td>\n",
       "      <td>1</td>\n",
       "      <td>1</td>\n",
       "      <td>0</td>\n",
       "      <td>1</td>\n",
       "      <td>0</td>\n",
       "    </tr>\n",
       "    <tr>\n",
       "      <th>1</th>\n",
       "      <td>4.95</td>\n",
       "      <td>0</td>\n",
       "      <td>9</td>\n",
       "      <td>42</td>\n",
       "      <td>57</td>\n",
       "      <td>1</td>\n",
       "      <td>1</td>\n",
       "      <td>0</td>\n",
       "      <td>1</td>\n",
       "      <td>0</td>\n",
       "    </tr>\n",
       "    <tr>\n",
       "      <th>2</th>\n",
       "      <td>6.67</td>\n",
       "      <td>0</td>\n",
       "      <td>12</td>\n",
       "      <td>1</td>\n",
       "      <td>19</td>\n",
       "      <td>0</td>\n",
       "      <td>0</td>\n",
       "      <td>0</td>\n",
       "      <td>1</td>\n",
       "      <td>0</td>\n",
       "    </tr>\n",
       "    <tr>\n",
       "      <th>3</th>\n",
       "      <td>4.00</td>\n",
       "      <td>0</td>\n",
       "      <td>12</td>\n",
       "      <td>4</td>\n",
       "      <td>22</td>\n",
       "      <td>0</td>\n",
       "      <td>0</td>\n",
       "      <td>0</td>\n",
       "      <td>0</td>\n",
       "      <td>0</td>\n",
       "    </tr>\n",
       "    <tr>\n",
       "      <th>4</th>\n",
       "      <td>7.50</td>\n",
       "      <td>0</td>\n",
       "      <td>12</td>\n",
       "      <td>17</td>\n",
       "      <td>35</td>\n",
       "      <td>0</td>\n",
       "      <td>1</td>\n",
       "      <td>0</td>\n",
       "      <td>0</td>\n",
       "      <td>0</td>\n",
       "    </tr>\n",
       "  </tbody>\n",
       "</table>\n",
       "</div>"
      ],
      "text/plain": [
       "   wage_per_hour  union  education_yrs  experience_yrs  age  female  marr  \\\n",
       "0           5.10      0              8              21   35       1     1   \n",
       "1           4.95      0              9              42   57       1     1   \n",
       "2           6.67      0             12               1   19       0     0   \n",
       "3           4.00      0             12               4   22       0     0   \n",
       "4           7.50      0             12              17   35       0     1   \n",
       "\n",
       "   south  manufacturing  construction  \n",
       "0      0              1             0  \n",
       "1      0              1             0  \n",
       "2      0              1             0  \n",
       "3      0              0             0  \n",
       "4      0              0             0  "
      ]
     },
     "execution_count": 3,
     "metadata": {},
     "output_type": "execute_result"
    }
   ],
   "source": [
    "#read in training data\n",
    "train_df = pd.read_csv('data/hourly_wages_data.csv')\n",
    "\n",
    "#view data structure\n",
    "train_df.head()"
   ]
  },
  {
   "cell_type": "code",
   "execution_count": 4,
   "metadata": {},
   "outputs": [
    {
     "data": {
      "text/html": [
       "<div>\n",
       "<style scoped>\n",
       "    .dataframe tbody tr th:only-of-type {\n",
       "        vertical-align: middle;\n",
       "    }\n",
       "\n",
       "    .dataframe tbody tr th {\n",
       "        vertical-align: top;\n",
       "    }\n",
       "\n",
       "    .dataframe thead th {\n",
       "        text-align: right;\n",
       "    }\n",
       "</style>\n",
       "<table border=\"1\" class=\"dataframe\">\n",
       "  <thead>\n",
       "    <tr style=\"text-align: right;\">\n",
       "      <th></th>\n",
       "      <th>union</th>\n",
       "      <th>education_yrs</th>\n",
       "      <th>experience_yrs</th>\n",
       "      <th>age</th>\n",
       "      <th>female</th>\n",
       "      <th>marr</th>\n",
       "      <th>south</th>\n",
       "      <th>manufacturing</th>\n",
       "      <th>construction</th>\n",
       "    </tr>\n",
       "  </thead>\n",
       "  <tbody>\n",
       "    <tr>\n",
       "      <th>0</th>\n",
       "      <td>0</td>\n",
       "      <td>8</td>\n",
       "      <td>21</td>\n",
       "      <td>35</td>\n",
       "      <td>1</td>\n",
       "      <td>1</td>\n",
       "      <td>0</td>\n",
       "      <td>1</td>\n",
       "      <td>0</td>\n",
       "    </tr>\n",
       "    <tr>\n",
       "      <th>1</th>\n",
       "      <td>0</td>\n",
       "      <td>9</td>\n",
       "      <td>42</td>\n",
       "      <td>57</td>\n",
       "      <td>1</td>\n",
       "      <td>1</td>\n",
       "      <td>0</td>\n",
       "      <td>1</td>\n",
       "      <td>0</td>\n",
       "    </tr>\n",
       "    <tr>\n",
       "      <th>2</th>\n",
       "      <td>0</td>\n",
       "      <td>12</td>\n",
       "      <td>1</td>\n",
       "      <td>19</td>\n",
       "      <td>0</td>\n",
       "      <td>0</td>\n",
       "      <td>0</td>\n",
       "      <td>1</td>\n",
       "      <td>0</td>\n",
       "    </tr>\n",
       "    <tr>\n",
       "      <th>3</th>\n",
       "      <td>0</td>\n",
       "      <td>12</td>\n",
       "      <td>4</td>\n",
       "      <td>22</td>\n",
       "      <td>0</td>\n",
       "      <td>0</td>\n",
       "      <td>0</td>\n",
       "      <td>0</td>\n",
       "      <td>0</td>\n",
       "    </tr>\n",
       "    <tr>\n",
       "      <th>4</th>\n",
       "      <td>0</td>\n",
       "      <td>12</td>\n",
       "      <td>17</td>\n",
       "      <td>35</td>\n",
       "      <td>0</td>\n",
       "      <td>1</td>\n",
       "      <td>0</td>\n",
       "      <td>0</td>\n",
       "      <td>0</td>\n",
       "    </tr>\n",
       "  </tbody>\n",
       "</table>\n",
       "</div>"
      ],
      "text/plain": [
       "   union  education_yrs  experience_yrs  age  female  marr  south  \\\n",
       "0      0              8              21   35       1     1      0   \n",
       "1      0              9              42   57       1     1      0   \n",
       "2      0             12               1   19       0     0      0   \n",
       "3      0             12               4   22       0     0      0   \n",
       "4      0             12              17   35       0     1      0   \n",
       "\n",
       "   manufacturing  construction  \n",
       "0              1             0  \n",
       "1              1             0  \n",
       "2              1             0  \n",
       "3              0             0  \n",
       "4              0             0  "
      ]
     },
     "execution_count": 4,
     "metadata": {},
     "output_type": "execute_result"
    }
   ],
   "source": [
    "#create a dataframe with all training data except the target column\n",
    "train_X = train_df.drop(columns=['wage_per_hour'])\n",
    "\n",
    "#check that the target variable has been removed\n",
    "train_X.head()"
   ]
  },
  {
   "cell_type": "code",
   "execution_count": 5,
   "metadata": {},
   "outputs": [
    {
     "data": {
      "text/html": [
       "<div>\n",
       "<style scoped>\n",
       "    .dataframe tbody tr th:only-of-type {\n",
       "        vertical-align: middle;\n",
       "    }\n",
       "\n",
       "    .dataframe tbody tr th {\n",
       "        vertical-align: top;\n",
       "    }\n",
       "\n",
       "    .dataframe thead th {\n",
       "        text-align: right;\n",
       "    }\n",
       "</style>\n",
       "<table border=\"1\" class=\"dataframe\">\n",
       "  <thead>\n",
       "    <tr style=\"text-align: right;\">\n",
       "      <th></th>\n",
       "      <th>wage_per_hour</th>\n",
       "    </tr>\n",
       "  </thead>\n",
       "  <tbody>\n",
       "    <tr>\n",
       "      <th>0</th>\n",
       "      <td>5.10</td>\n",
       "    </tr>\n",
       "    <tr>\n",
       "      <th>1</th>\n",
       "      <td>4.95</td>\n",
       "    </tr>\n",
       "    <tr>\n",
       "      <th>2</th>\n",
       "      <td>6.67</td>\n",
       "    </tr>\n",
       "    <tr>\n",
       "      <th>3</th>\n",
       "      <td>4.00</td>\n",
       "    </tr>\n",
       "    <tr>\n",
       "      <th>4</th>\n",
       "      <td>7.50</td>\n",
       "    </tr>\n",
       "  </tbody>\n",
       "</table>\n",
       "</div>"
      ],
      "text/plain": [
       "   wage_per_hour\n",
       "0           5.10\n",
       "1           4.95\n",
       "2           6.67\n",
       "3           4.00\n",
       "4           7.50"
      ]
     },
     "execution_count": 5,
     "metadata": {},
     "output_type": "execute_result"
    }
   ],
   "source": [
    "#create a dataframe with only the target column\n",
    "train_y = train_df[['wage_per_hour']]\n",
    "\n",
    "#view dataframe\n",
    "train_y.head()"
   ]
  },
  {
   "cell_type": "code",
   "execution_count": 6,
   "metadata": {
    "collapsed": true
   },
   "outputs": [],
   "source": [
    "#create model\n",
    "model = Sequential()\n",
    "\n",
    "#get number of columns in training data\n",
    "n_cols = train_X.shape[1]\n",
    "\n",
    "#add model layers\n",
    "model.add(Dense(10, activation='relu', input_shape=(n_cols,)))\n",
    "model.add(Dense(10, activation='relu'))\n",
    "model.add(Dense(1))\n",
    "\n",
    "#compile model using mse as a measure of model performance\n",
    "model.compile(optimizer='adam', loss='mean_squared_error', metrics=['accuracy'])\n",
    "\n",
    "#set early stopping monitor so the model stops training when it won't improve anymore\n",
    "early_stopping_monitor = EarlyStopping(patience=3)"
   ]
  },
  {
   "cell_type": "code",
   "execution_count": 7,
   "metadata": {},
   "outputs": [
    {
     "name": "stdout",
     "output_type": "stream",
     "text": [
      "Train on 427 samples, validate on 107 samples\n",
      "Epoch 1/30\n",
      "427/427 [==============================] - 2s 5ms/step - loss: 386.3487 - val_loss: 417.2143\n",
      "Epoch 2/30\n",
      "427/427 [==============================] - 0s 130us/step - loss: 251.5461 - val_loss: 302.0254\n",
      "Epoch 3/30\n",
      "427/427 [==============================] - 0s 131us/step - loss: 159.7994 - val_loss: 217.7540\n",
      "Epoch 4/30\n",
      "427/427 [==============================] - 0s 132us/step - loss: 99.4410 - val_loss: 159.6498\n",
      "Epoch 5/30\n",
      "427/427 [==============================] - 0s 122us/step - loss: 65.0074 - val_loss: 119.1351\n",
      "Epoch 6/30\n",
      "427/427 [==============================] - 0s 134us/step - loss: 45.7454 - val_loss: 92.2071\n",
      "Epoch 7/30\n",
      "427/427 [==============================] - 0s 141us/step - loss: 35.8946 - val_loss: 75.0109\n",
      "Epoch 8/30\n",
      "427/427 [==============================] - 0s 134us/step - loss: 31.3149 - val_loss: 65.4150\n",
      "Epoch 9/30\n",
      "427/427 [==============================] - 0s 129us/step - loss: 29.1621 - val_loss: 60.3541\n",
      "Epoch 10/30\n",
      "427/427 [==============================] - 0s 131us/step - loss: 26.9173 - val_loss: 56.6895\n",
      "Epoch 11/30\n",
      "427/427 [==============================] - 0s 135us/step - loss: 24.7389 - val_loss: 53.3291\n",
      "Epoch 12/30\n",
      "427/427 [==============================] - 0s 136us/step - loss: 23.3865 - val_loss: 49.8727\n",
      "Epoch 13/30\n",
      "427/427 [==============================] - 0s 133us/step - loss: 22.4201 - val_loss: 47.2543\n",
      "Epoch 14/30\n",
      "427/427 [==============================] - 0s 141us/step - loss: 21.6067 - val_loss: 44.1796\n",
      "Epoch 15/30\n",
      "427/427 [==============================] - 0s 154us/step - loss: 20.9703 - val_loss: 42.3825\n",
      "Epoch 16/30\n",
      "427/427 [==============================] - 0s 150us/step - loss: 20.4582 - val_loss: 40.8692\n",
      "Epoch 17/30\n",
      "427/427 [==============================] - 0s 134us/step - loss: 20.1899 - val_loss: 40.0740\n",
      "Epoch 18/30\n",
      "427/427 [==============================] - ETA: 0s - loss: 16.89 - 0s 136us/step - loss: 19.7732 - val_loss: 38.0213\n",
      "Epoch 19/30\n",
      "427/427 [==============================] - 0s 131us/step - loss: 19.6096 - val_loss: 38.3011\n",
      "Epoch 20/30\n",
      "427/427 [==============================] - 0s 159us/step - loss: 19.2362 - val_loss: 36.2435\n",
      "Epoch 21/30\n",
      "427/427 [==============================] - 0s 147us/step - loss: 19.1431 - val_loss: 36.1216\n",
      "Epoch 22/30\n",
      "427/427 [==============================] - 0s 105us/step - loss: 18.8957 - val_loss: 34.9937\n",
      "Epoch 23/30\n",
      "427/427 [==============================] - 0s 139us/step - loss: 18.8962 - val_loss: 34.3760\n",
      "Epoch 24/30\n",
      "427/427 [==============================] - 0s 140us/step - loss: 18.6709 - val_loss: 34.6438\n",
      "Epoch 25/30\n",
      "427/427 [==============================] - 0s 123us/step - loss: 18.6581 - val_loss: 33.9201\n",
      "Epoch 26/30\n",
      "427/427 [==============================] - 0s 122us/step - loss: 18.5050 - val_loss: 34.0667\n",
      "Epoch 27/30\n",
      "427/427 [==============================] - 0s 134us/step - loss: 18.4748 - val_loss: 33.1020\n",
      "Epoch 28/30\n",
      "427/427 [==============================] - 0s 141us/step - loss: 18.4342 - val_loss: 32.9623\n",
      "Epoch 29/30\n",
      "427/427 [==============================] - 0s 133us/step - loss: 18.4403 - val_loss: 33.2351\n",
      "Epoch 30/30\n",
      "427/427 [==============================] - 0s 132us/step - loss: 18.4507 - val_loss: 32.2648\n"
     ]
    },
    {
     "data": {
      "text/plain": [
       "<keras.callbacks.History at 0x113697080>"
      ]
     },
     "execution_count": 7,
     "metadata": {},
     "output_type": "execute_result"
    }
   ],
   "source": [
    "#train model\n",
    "history = model.fit(train_X, train_y, validation_split=0.2, epochs=30, callbacks=[early_stopping_monitor])"
   ]
  },
  {
   "cell_type": "code",
   "execution_count": null,
   "metadata": {
    "collapsed": true
   },
   "outputs": [],
   "source": [
    "#Trainning plot.\n",
    "plot(history.history['loss'],history.history['val_loss'],score[0])\n",
    "plot(history.history['acc'],history.history['val_acc'],score[1])"
   ]
  },
  {
   "cell_type": "code",
   "execution_count": 9,
   "metadata": {},
   "outputs": [],
   "source": [
    "#training a new model on the same data to show the effect of increasing model capacity\n",
    "\n",
    "#create model\n",
    "model_mc = Sequential()\n",
    "\n",
    "#add model layers\n",
    "model_mc.add(Dense(200, activation='relu', input_shape=(n_cols,)))\n",
    "model_mc.add(Dense(200, activation='relu'))\n",
    "model_mc.add(Dense(200, activation='relu'))\n",
    "model_mc.add(Dense(1))\n",
    "\n",
    "#compile model using mse as a measure of model performance\n",
    "model_mc.compile(optimizer='adam', loss='mean_squared_error', metrics=['accuracy'])"
   ]
  },
  {
   "cell_type": "code",
   "execution_count": 10,
   "metadata": {},
   "outputs": [
    {
     "name": "stdout",
     "output_type": "stream",
     "text": [
      "Train on 427 samples, validate on 107 samples\n",
      "Epoch 1/30\n",
      "427/427 [==============================] - 1s 2ms/step - loss: 34.8452 - val_loss: 32.7817\n",
      "Epoch 2/30\n",
      "427/427 [==============================] - 0s 226us/step - loss: 20.8733 - val_loss: 32.6030\n",
      "Epoch 3/30\n",
      "427/427 [==============================] - 0s 224us/step - loss: 20.2396 - val_loss: 34.2280\n",
      "Epoch 4/30\n",
      "427/427 [==============================] - 0s 228us/step - loss: 19.9879 - val_loss: 35.0082\n",
      "Epoch 5/30\n",
      "427/427 [==============================] - 0s 220us/step - loss: 19.2215 - val_loss: 29.4752\n",
      "Epoch 6/30\n",
      "427/427 [==============================] - 0s 237us/step - loss: 19.1384 - val_loss: 31.1145\n",
      "Epoch 7/30\n",
      "427/427 [==============================] - 0s 232us/step - loss: 18.9657 - val_loss: 29.9923\n",
      "Epoch 8/30\n",
      "427/427 [==============================] - 0s 221us/step - loss: 19.8469 - val_loss: 27.7508\n",
      "Epoch 9/30\n",
      "427/427 [==============================] - 0s 217us/step - loss: 19.2072 - val_loss: 28.3593\n",
      "Epoch 10/30\n",
      "427/427 [==============================] - 0s 252us/step - loss: 19.9805 - val_loss: 27.8651\n",
      "Epoch 11/30\n",
      "427/427 [==============================] - 0s 236us/step - loss: 18.8307 - val_loss: 30.2776\n"
     ]
    },
    {
     "data": {
      "text/plain": [
       "<keras.callbacks.History at 0x113baeb70>"
      ]
     },
     "execution_count": 10,
     "metadata": {},
     "output_type": "execute_result"
    }
   ],
   "source": [
    "#train model\n",
    "history = model_mc.fit(train_X, train_y, validation_split=0.2, epochs=30, callbacks=[early_stopping_monitor])"
   ]
  },
  {
   "cell_type": "code",
   "execution_count": null,
   "metadata": {
    "collapsed": true
   },
   "outputs": [],
   "source": [
    "#Trainning plot.\n",
    "plot(history.history['loss'],history.history['val_loss'],score[0])\n",
    "plot(history.history['acc'],history.history['val_acc'],score[1])"
   ]
  },
  {
   "cell_type": "markdown",
   "metadata": {},
   "source": [
    "For this next model, we are going to predict if patients have diabetes or not."
   ]
  },
  {
   "cell_type": "code",
   "execution_count": 12,
   "metadata": {},
   "outputs": [
    {
     "data": {
      "text/html": [
       "<div>\n",
       "<style scoped>\n",
       "    .dataframe tbody tr th:only-of-type {\n",
       "        vertical-align: middle;\n",
       "    }\n",
       "\n",
       "    .dataframe tbody tr th {\n",
       "        vertical-align: top;\n",
       "    }\n",
       "\n",
       "    .dataframe thead th {\n",
       "        text-align: right;\n",
       "    }\n",
       "</style>\n",
       "<table border=\"1\" class=\"dataframe\">\n",
       "  <thead>\n",
       "    <tr style=\"text-align: right;\">\n",
       "      <th></th>\n",
       "      <th>pregnancies</th>\n",
       "      <th>glucose</th>\n",
       "      <th>diastolic</th>\n",
       "      <th>triceps</th>\n",
       "      <th>insulin</th>\n",
       "      <th>bmi</th>\n",
       "      <th>dpf</th>\n",
       "      <th>age</th>\n",
       "      <th>diabetes</th>\n",
       "    </tr>\n",
       "  </thead>\n",
       "  <tbody>\n",
       "    <tr>\n",
       "      <th>0</th>\n",
       "      <td>6</td>\n",
       "      <td>148</td>\n",
       "      <td>72</td>\n",
       "      <td>35</td>\n",
       "      <td>0</td>\n",
       "      <td>33.6</td>\n",
       "      <td>0.627</td>\n",
       "      <td>50</td>\n",
       "      <td>1</td>\n",
       "    </tr>\n",
       "    <tr>\n",
       "      <th>1</th>\n",
       "      <td>1</td>\n",
       "      <td>85</td>\n",
       "      <td>66</td>\n",
       "      <td>29</td>\n",
       "      <td>0</td>\n",
       "      <td>26.6</td>\n",
       "      <td>0.351</td>\n",
       "      <td>31</td>\n",
       "      <td>0</td>\n",
       "    </tr>\n",
       "    <tr>\n",
       "      <th>2</th>\n",
       "      <td>8</td>\n",
       "      <td>183</td>\n",
       "      <td>64</td>\n",
       "      <td>0</td>\n",
       "      <td>0</td>\n",
       "      <td>23.3</td>\n",
       "      <td>0.672</td>\n",
       "      <td>32</td>\n",
       "      <td>1</td>\n",
       "    </tr>\n",
       "    <tr>\n",
       "      <th>3</th>\n",
       "      <td>1</td>\n",
       "      <td>89</td>\n",
       "      <td>66</td>\n",
       "      <td>23</td>\n",
       "      <td>94</td>\n",
       "      <td>28.1</td>\n",
       "      <td>0.167</td>\n",
       "      <td>21</td>\n",
       "      <td>0</td>\n",
       "    </tr>\n",
       "    <tr>\n",
       "      <th>4</th>\n",
       "      <td>0</td>\n",
       "      <td>137</td>\n",
       "      <td>40</td>\n",
       "      <td>35</td>\n",
       "      <td>168</td>\n",
       "      <td>43.1</td>\n",
       "      <td>2.288</td>\n",
       "      <td>33</td>\n",
       "      <td>1</td>\n",
       "    </tr>\n",
       "  </tbody>\n",
       "</table>\n",
       "</div>"
      ],
      "text/plain": [
       "   pregnancies  glucose  diastolic  triceps  insulin   bmi    dpf  age  \\\n",
       "0            6      148         72       35        0  33.6  0.627   50   \n",
       "1            1       85         66       29        0  26.6  0.351   31   \n",
       "2            8      183         64        0        0  23.3  0.672   32   \n",
       "3            1       89         66       23       94  28.1  0.167   21   \n",
       "4            0      137         40       35      168  43.1  2.288   33   \n",
       "\n",
       "   diabetes  \n",
       "0         1  \n",
       "1         0  \n",
       "2         1  \n",
       "3         0  \n",
       "4         1  "
      ]
     },
     "execution_count": 12,
     "metadata": {},
     "output_type": "execute_result"
    }
   ],
   "source": [
    "#read in training data\n",
    "train_df_2 = pd.read_csv('data/diabetes_data.csv')\n",
    "\n",
    "#view data structure\n",
    "train_df_2.head()"
   ]
  },
  {
   "cell_type": "code",
   "execution_count": 13,
   "metadata": {},
   "outputs": [
    {
     "data": {
      "text/html": [
       "<div>\n",
       "<style scoped>\n",
       "    .dataframe tbody tr th:only-of-type {\n",
       "        vertical-align: middle;\n",
       "    }\n",
       "\n",
       "    .dataframe tbody tr th {\n",
       "        vertical-align: top;\n",
       "    }\n",
       "\n",
       "    .dataframe thead th {\n",
       "        text-align: right;\n",
       "    }\n",
       "</style>\n",
       "<table border=\"1\" class=\"dataframe\">\n",
       "  <thead>\n",
       "    <tr style=\"text-align: right;\">\n",
       "      <th></th>\n",
       "      <th>pregnancies</th>\n",
       "      <th>glucose</th>\n",
       "      <th>diastolic</th>\n",
       "      <th>triceps</th>\n",
       "      <th>insulin</th>\n",
       "      <th>bmi</th>\n",
       "      <th>dpf</th>\n",
       "      <th>age</th>\n",
       "    </tr>\n",
       "  </thead>\n",
       "  <tbody>\n",
       "    <tr>\n",
       "      <th>0</th>\n",
       "      <td>6</td>\n",
       "      <td>148</td>\n",
       "      <td>72</td>\n",
       "      <td>35</td>\n",
       "      <td>0</td>\n",
       "      <td>33.6</td>\n",
       "      <td>0.627</td>\n",
       "      <td>50</td>\n",
       "    </tr>\n",
       "    <tr>\n",
       "      <th>1</th>\n",
       "      <td>1</td>\n",
       "      <td>85</td>\n",
       "      <td>66</td>\n",
       "      <td>29</td>\n",
       "      <td>0</td>\n",
       "      <td>26.6</td>\n",
       "      <td>0.351</td>\n",
       "      <td>31</td>\n",
       "    </tr>\n",
       "    <tr>\n",
       "      <th>2</th>\n",
       "      <td>8</td>\n",
       "      <td>183</td>\n",
       "      <td>64</td>\n",
       "      <td>0</td>\n",
       "      <td>0</td>\n",
       "      <td>23.3</td>\n",
       "      <td>0.672</td>\n",
       "      <td>32</td>\n",
       "    </tr>\n",
       "    <tr>\n",
       "      <th>3</th>\n",
       "      <td>1</td>\n",
       "      <td>89</td>\n",
       "      <td>66</td>\n",
       "      <td>23</td>\n",
       "      <td>94</td>\n",
       "      <td>28.1</td>\n",
       "      <td>0.167</td>\n",
       "      <td>21</td>\n",
       "    </tr>\n",
       "    <tr>\n",
       "      <th>4</th>\n",
       "      <td>0</td>\n",
       "      <td>137</td>\n",
       "      <td>40</td>\n",
       "      <td>35</td>\n",
       "      <td>168</td>\n",
       "      <td>43.1</td>\n",
       "      <td>2.288</td>\n",
       "      <td>33</td>\n",
       "    </tr>\n",
       "  </tbody>\n",
       "</table>\n",
       "</div>"
      ],
      "text/plain": [
       "   pregnancies  glucose  diastolic  triceps  insulin   bmi    dpf  age\n",
       "0            6      148         72       35        0  33.6  0.627   50\n",
       "1            1       85         66       29        0  26.6  0.351   31\n",
       "2            8      183         64        0        0  23.3  0.672   32\n",
       "3            1       89         66       23       94  28.1  0.167   21\n",
       "4            0      137         40       35      168  43.1  2.288   33"
      ]
     },
     "execution_count": 13,
     "metadata": {},
     "output_type": "execute_result"
    }
   ],
   "source": [
    "#create a dataframe with all training data except the target column\n",
    "train_X_2 = train_df_2.drop(columns=['diabetes'])\n",
    "\n",
    "#check that the target variable has been removed\n",
    "train_X_2.head()"
   ]
  },
  {
   "cell_type": "code",
   "execution_count": 14,
   "metadata": {},
   "outputs": [
    {
     "data": {
      "text/plain": [
       "array([[0., 1.],\n",
       "       [1., 0.],\n",
       "       [0., 1.],\n",
       "       [1., 0.],\n",
       "       [0., 1.]])"
      ]
     },
     "execution_count": 14,
     "metadata": {},
     "output_type": "execute_result"
    }
   ],
   "source": [
    "#one-hot encode target column\n",
    "train_y_2 = to_categorical(train_df_2.diabetes)\n",
    "\n",
    "#vcheck that target column has been converted\n",
    "train_y_2[0:5]"
   ]
  },
  {
   "cell_type": "code",
   "execution_count": 15,
   "metadata": {
    "collapsed": true
   },
   "outputs": [],
   "source": [
    "#create model\n",
    "model_2 = Sequential()\n",
    "\n",
    "#get number of columns in training data\n",
    "n_cols_2 = train_X_2.shape[1]\n",
    "\n",
    "#add layers to model\n",
    "model_2.add(Dense(250, activation='relu', input_shape=(n_cols_2,)))\n",
    "model_2.add(Dense(250, activation='relu'))\n",
    "model_2.add(Dense(250, activation='relu'))\n",
    "model_2.add(Dense(2, activation='softmax'))\n",
    "\n",
    "#compile model using accuracy to measure model performance\n",
    "model_2.compile(optimizer='adam', loss='categorical_crossentropy', metrics=['accuracy'])"
   ]
  },
  {
   "cell_type": "code",
   "execution_count": 17,
   "metadata": {},
   "outputs": [
    {
     "name": "stdout",
     "output_type": "stream",
     "text": [
      "Train on 614 samples, validate on 154 samples\n",
      "Epoch 1/30\n",
      "614/614 [==============================] - 1s 843us/step - loss: 9.7041 - acc: 0.3632 - val_loss: 7.9947 - val_acc: 0.4805\n",
      "Epoch 2/30\n",
      "614/614 [==============================] - 0s 293us/step - loss: 5.8425 - acc: 0.6107 - val_loss: 5.8513 - val_acc: 0.6299\n",
      "Epoch 3/30\n",
      "614/614 [==============================] - 0s 295us/step - loss: 5.2538 - acc: 0.6303 - val_loss: 5.4043 - val_acc: 0.5714\n",
      "Epoch 4/30\n",
      "614/614 [==============================] - 0s 247us/step - loss: 2.8126 - acc: 0.5765 - val_loss: 2.5606 - val_acc: 0.3896\n",
      "Epoch 5/30\n",
      "614/614 [==============================] - 0s 233us/step - loss: 1.1382 - acc: 0.5717 - val_loss: 0.8305 - val_acc: 0.6169\n",
      "Epoch 6/30\n",
      "614/614 [==============================] - 0s 295us/step - loss: 0.6772 - acc: 0.6433 - val_loss: 0.9814 - val_acc: 0.6494\n",
      "Epoch 7/30\n",
      "614/614 [==============================] - 0s 253us/step - loss: 0.6855 - acc: 0.6661 - val_loss: 1.2048 - val_acc: 0.4351\n",
      "Epoch 8/30\n",
      "614/614 [==============================] - 0s 221us/step - loss: 0.8111 - acc: 0.6547 - val_loss: 0.6113 - val_acc: 0.6818\n",
      "Epoch 9/30\n",
      "614/614 [==============================] - 0s 247us/step - loss: 0.6073 - acc: 0.6417 - val_loss: 0.6990 - val_acc: 0.6558\n",
      "Epoch 10/30\n",
      "614/614 [==============================] - 0s 225us/step - loss: 0.6124 - acc: 0.6661 - val_loss: 0.6078 - val_acc: 0.6948\n",
      "Epoch 11/30\n",
      "614/614 [==============================] - 0s 233us/step - loss: 0.5567 - acc: 0.7101 - val_loss: 0.6046 - val_acc: 0.6818\n",
      "Epoch 12/30\n",
      "614/614 [==============================] - 0s 235us/step - loss: 0.5605 - acc: 0.7068 - val_loss: 0.6999 - val_acc: 0.6688\n",
      "Epoch 13/30\n",
      "614/614 [==============================] - 0s 247us/step - loss: 0.5965 - acc: 0.7036 - val_loss: 0.6464 - val_acc: 0.6883\n",
      "Epoch 14/30\n",
      "614/614 [==============================] - 0s 256us/step - loss: 0.5897 - acc: 0.6954 - val_loss: 0.6140 - val_acc: 0.6558\n"
     ]
    },
    {
     "data": {
      "text/plain": [
       "<keras.callbacks.History at 0x114198668>"
      ]
     },
     "execution_count": 17,
     "metadata": {},
     "output_type": "execute_result"
    }
   ],
   "source": [
    "#train model\n",
    "history = model_2.fit(train_X_2, train_y_2, epochs=30, validation_split=0.2, callbacks=[early_stopping_monitor])"
   ]
  },
  {
   "cell_type": "code",
   "execution_count": null,
   "metadata": {
    "collapsed": true
   },
   "outputs": [],
   "source": [
    "#Trainning plot.\n",
    "plot(history.history['loss'],history.history['val_loss'],score[0])\n",
    "plot(history.history['acc'],history.history['val_acc'],score[1])"
   ]
  },
  {
   "cell_type": "markdown",
   "metadata": {},
   "source": [
    "## How to Save and Load Your Keras Deep Learning Model\n",
    "Based on [this](https://machinelearningmastery.com/save-load-keras-deep-learning-models/)\n",
    "\n",
    "Keras separates the concerns of saving your model architecture and saving your model weights.\n",
    "\n",
    "Model weights are saved to HDF5 format. This is a grid format that is ideal for storing multi-dimensional arrays of numbers.\n",
    "\n",
    "The model structure can be described and saved using two different formats: JSON and YAML.\n",
    "\n",
    "We will learn how to save a Model to JSON and also demonstrate saving and loading your model weights to HDF5 formatted files."
   ]
  },
  {
   "cell_type": "code",
   "execution_count": 24,
   "metadata": {},
   "outputs": [
    {
     "name": "stdout",
     "output_type": "stream",
     "text": [
      "acc: 77.73%\n",
      "Saved model to disk\n",
      "Loaded model from disk\n",
      "acc: 77.73%\n"
     ]
    }
   ],
   "source": [
    "# MLP for Pima Indians Dataset Serialize to JSON and HDF5\n",
    "# fix random seed for reproducibility\n",
    "numpy.random.seed(7)\n",
    "\n",
    "# load pima indians dataset\n",
    "dataset = numpy.loadtxt(\"data/pima-indians-diabetes.csv\", delimiter=\",\")\n",
    "\n",
    "# split into input (X) and output (Y) variables\n",
    "X = dataset[:,0:8]\n",
    "Y = dataset[:,8]\n",
    "# create model\n",
    "model = Sequential()\n",
    "model.add(Dense(12, input_dim=8, kernel_initializer='uniform', activation='relu'))\n",
    "model.add(Dense(8, kernel_initializer='uniform', activation='relu'))\n",
    "model.add(Dense(1, kernel_initializer='uniform', activation='sigmoid'))\n",
    "\n",
    "# Compile model\n",
    "model.compile(loss='binary_crossentropy', optimizer='adam', metrics=['accuracy'])\n",
    "\n",
    "# Fit the model\n",
    "model.fit(X, Y, epochs=150, batch_size=10, verbose=0)\n",
    "\n",
    "# evaluate the model\n",
    "scores = model.evaluate(X, Y, verbose=0)\n",
    "print(\"%s: %.2f%%\" % (model.metrics_names[1], scores[1]*100))\n",
    " \n",
    "# serialize model to JSON\n",
    "model_json = model.to_json()\n",
    "with open(\"model.json\", \"w\") as json_file:\n",
    "    json_file.write(model_json)\n",
    "# serialize weights to HDF5\n",
    "model.save_weights(\"model.h5\")\n",
    "print(\"Saved model to disk\")"
   ]
  },
  {
   "cell_type": "code",
   "execution_count": null,
   "metadata": {
    "collapsed": true
   },
   "outputs": [],
   "source": [
    "# later...that night...\n",
    " \n",
    "# load json and create model\n",
    "json_file = open('model.json', 'r')\n",
    "loaded_model_json = json_file.read()\n",
    "json_file.close()\n",
    "loaded_model = model_from_json(loaded_model_json)\n",
    "# load weights into new model\n",
    "loaded_model.load_weights(\"model.h5\")\n",
    "print(\"Loaded model from disk\")\n",
    " \n",
    "# evaluate loaded model on test data\n",
    "loaded_model.compile(loss='binary_crossentropy', optimizer='rmsprop', metrics=['accuracy'])\n",
    "score = loaded_model.evaluate(X, Y, verbose=0)\n",
    "print(\"%s: %.2f%%\" % (loaded_model.metrics_names[1], score[1]*100))"
   ]
  },
  {
   "cell_type": "markdown",
   "metadata": {},
   "source": [
    "### Save Model Weights and Architecture Together\n",
    "\n",
    "Keras also supports a simpler interface to save both the model weights and model architecture together into a single H5 file.\n",
    "\n",
    "Saving the model in this way includes everything we need to know about the model, including:\n",
    "\n",
    "- Model weights.\n",
    "- Model architecture.\n",
    "- Model compilation details (loss and metrics).\n",
    "- Model optimizer state.\n",
    "This means that we can load and use the model directly, without having to re-compile it as we did in the examples above.\n",
    "\n",
    "Note: this is the preferred way for saving and loading your Keras model.\n",
    "\n",
    "## How to Save a Keras Model\n",
    "\n",
    "You can save your model by calling the save() function on the model and specifying the filename.\n",
    "\n",
    "The example below demonstrates this by first fitting a model, evaluating it and saving it to the file _model.h5_."
   ]
  },
  {
   "cell_type": "code",
   "execution_count": 26,
   "metadata": {},
   "outputs": [
    {
     "name": "stdout",
     "output_type": "stream",
     "text": [
      "acc: 78.39%\n",
      "Saved model to disk\n"
     ]
    }
   ],
   "source": [
    "# MLP for Pima Indians Dataset saved to single file\n",
    "# load pima indians dataset\n",
    "dataset = loadtxt(\"data/pima-indians-diabetes.csv\", delimiter=\",\")\n",
    "# split into input (X) and output (Y) variables\n",
    "X = dataset[:,0:8]\n",
    "Y = dataset[:,8]\n",
    "# define model\n",
    "model = Sequential()\n",
    "model.add(Dense(12, input_dim=8, activation='relu'))\n",
    "model.add(Dense(8, activation='relu'))\n",
    "model.add(Dense(1, activation='sigmoid'))\n",
    "# compile model\n",
    "model.compile(loss='binary_crossentropy', optimizer='adam', metrics=['accuracy'])\n",
    "# Fit the model\n",
    "model.fit(X, Y, epochs=150, batch_size=10, verbose=0)\n",
    "# evaluate the model\n",
    "scores = model.evaluate(X, Y, verbose=0)\n",
    "print(\"%s: %.2f%%\" % (model.metrics_names[1], scores[1]*100))\n",
    "# save model and architecture to single file\n",
    "model.save(\"model.h5\")\n",
    "print(\"Saved model to disk\")"
   ]
  },
  {
   "cell_type": "markdown",
   "metadata": {},
   "source": [
    "## How to Load a Keras Model\n",
    "\n",
    "Your saved model can then be loaded later by calling the load_model() function and passing the filename. The function returns the model with the same architecture and weights.\n",
    "\n",
    "In this case, we load the model, summarize the architecture and evaluate it on the same dataset to confirm the weights and architecture are the same."
   ]
  },
  {
   "cell_type": "code",
   "execution_count": 28,
   "metadata": {},
   "outputs": [
    {
     "name": "stdout",
     "output_type": "stream",
     "text": [
      "_________________________________________________________________\n",
      "Layer (type)                 Output Shape              Param #   \n",
      "=================================================================\n",
      "dense_17 (Dense)             (None, 12)                108       \n",
      "_________________________________________________________________\n",
      "dense_18 (Dense)             (None, 8)                 104       \n",
      "_________________________________________________________________\n",
      "dense_19 (Dense)             (None, 1)                 9         \n",
      "=================================================================\n",
      "Total params: 221\n",
      "Trainable params: 221\n",
      "Non-trainable params: 0\n",
      "_________________________________________________________________\n",
      "acc: 78.39%\n"
     ]
    }
   ],
   "source": [
    "# load and evaluate a saved model\n",
    "from numpy import loadtxt\n",
    "from keras.models import load_model\n",
    " \n",
    "# load model\n",
    "model = load_model('model.h5')\n",
    "# summarize model.\n",
    "model.summary()\n",
    "# load dataset\n",
    "dataset = loadtxt(\"data/pima-indians-diabetes.csv\", delimiter=\",\")\n",
    "# split into input (X) and output (Y) variables\n",
    "X = dataset[:,0:8]\n",
    "Y = dataset[:,8]\n",
    "# evaluate the model\n",
    "score = model.evaluate(X, Y, verbose=0)\n",
    "print(\"%s: %.2f%%\" % (model.metrics_names[1], score[1]*100))"
   ]
  },
  {
   "cell_type": "markdown",
   "metadata": {},
   "source": [
    "Running the example first loads the model, prints a summary of the model architecture then evaluates the loaded model on the same dataset.\n",
    "\n",
    "The model achieves the same accuracy score which in this case is 78.39%."
   ]
  },
  {
   "cell_type": "markdown",
   "metadata": {},
   "source": [
    "# Image classification\n",
    "\n",
    "## The Problem Space\n",
    "Image classification is the task of taking an input image and outputting a class (a cat, dog, etc) or a probability of classes that best describes the image. For humans, this task of recognition is one of the first skills we learn from the moment we are born and is one that comes naturally and effortlessly as adults. Without even thinking twice, we’re able to quickly and seamlessly identify the environment we are in as well as the objects that surround us. When we see an image or just when we look at the world around us, most of the time we are able to immediately characterize the scene and give each object a label, all without even consciously noticing. These skills of being able to quickly recognize patterns, generalize from prior knowledge, and adapt to different image environments are ones that we do not share with our fellow machines.\n",
    "\n",
    "<img src = images/watch.png>\n",
    "\n",
    "<img src = images/whycnn.png  width=\"550\" height=\"650\">"
   ]
  },
  {
   "cell_type": "markdown",
   "metadata": {},
   "source": [
    "# Convolutional Neural Network"
   ]
  },
  {
   "cell_type": "markdown",
   "metadata": {},
   "source": [
    "In mathematics, a convolution is a function which is applied over the output of another function. In our case, we will consider applying a matrix multiplication (filter/Kernel) across an image.\n",
    "<img src = images/convolutional.jpg width=\"350\" height=\"450\">\n",
    "\n",
    "an example of CNN's filters:\n",
    "<img src = images/filters.png width=\"450\" height=\"550\">\n",
    "\n",
    "## Stride\n",
    "Stride controls how the filter convolves around the input volume. The filter convolves around the input volume by shifting one/two, .. unit at a time. Stride is normally set in a way so that the output volume is an integer and not a fraction. Let’s look at an example. Let’s imagine a 7 x 7 input volume, a 3 x 3 filter (Disregard the 3rd dimension for simplicity), and a stride of 2. So, as you can see, the receptive field is shifting by 2 units now and the output volume shrinks as well. Notice that if we tried to set our stride to 3, then we’d have issues with spacing and making sure the receptive fields fit on the input volume. Normally, programmers will increase the stride if they want receptive fields to overlap less and if they want smaller spatial dimensions.\n",
    "<img src = images/Stride2.png >\n",
    "\n",
    "## Padding\n",
    "What happens when you apply three 5 x 5 x 3 filters to a 32 x 32 x 3 input volume? The output volume would be 28 x 28 x 3. Notice that the spatial dimensions decrease. As we keep applying conv layers, the size of the volume will decrease faster than we would like. In the early layers of our network, we want to preserve as much information about the original input volume so that we can extract those low level features. Let’s say we want to apply the same conv layer but we want the output volume to remain 32 x 32 x 3. To do this, we can apply a zero padding of size 2 to that layer. Zero padding pads the input volume with zeros around the border. If we think about a zero padding of two, then this would result in a 36 x 36 x 3 input volume.\n",
    "<img src = images/Pad.png>\n",
    "\n",
    "<img src = images/padding2.png width=\"450\" height=\"550\">\n",
    "\n",
    "## Pooling\n",
    "It is also referred to as a downsampling layer. In this category, there are also several layer options, with maxpooling being the most popular. This basically takes a filter (normally of size 2x2) and a stride of the same length. It then applies it to the input volume and outputs the maximum number in every subregion that the filter convolves around.\n",
    "<img src = images/max_pooling.png width=\"350\" height=\"450\">"
   ]
  },
  {
   "cell_type": "markdown",
   "metadata": {},
   "source": [
    "gently introduction to [CNN](https://towardsdatascience.com/simple-introduction-to-convolutional-neural-networks-cdf8d3077bac) (Convolutional Neural Network no the new's channel by the way)\n",
    "\n",
    "## Additional remark\n",
    "Special Filter to use - RGB\n",
    "<img src = images/rgb.jpeg width=\"450\" height=\"550\">\n",
    "\n",
    "<img src = images/rbg2.png width=\"450\" height=\"550\">"
   ]
  },
  {
   "cell_type": "markdown",
   "metadata": {},
   "source": [
    "Dataset to use MNIST\n",
    "<img src = images/mnist.png width=\"450\" height=\"550\">"
   ]
  },
  {
   "cell_type": "code",
   "execution_count": 30,
   "metadata": {
    "collapsed": true
   },
   "outputs": [],
   "source": [
    "#download mnist data and split into train and test sets\n",
    "(X_train, y_train), (X_test, y_test) = mnist.load_data()"
   ]
  },
  {
   "cell_type": "code",
   "execution_count": 33,
   "metadata": {},
   "outputs": [
    {
     "data": {
      "text/plain": [
       "(28, 28)"
      ]
     },
     "execution_count": 33,
     "metadata": {},
     "output_type": "execute_result"
    },
    {
     "data": {
      "image/png": "[encoded data removed]",
      "text/plain": [
       "<matplotlib.figure.Figure at 0x123c040f0>"
      ]
     },
     "metadata": {},
     "output_type": "display_data"
    }
   ],
   "source": [
    "#plot the first image in the dataset\n",
    "plt.imshow(X_train[0])\n",
    "#check image shape\n",
    "X_train[0].shape"
   ]
  },
  {
   "cell_type": "code",
   "execution_count": 34,
   "metadata": {
    "collapsed": true
   },
   "outputs": [],
   "source": [
    "#reshape data to fit model\n",
    "X_train = X_train.reshape(60000,28,28,1)\n",
    "X_test = X_test.reshape(10000,28,28,1)"
   ]
  },
  {
   "cell_type": "code",
   "execution_count": 37,
   "metadata": {},
   "outputs": [],
   "source": [
    "#one-hot encode target column\n",
    "y_train = to_categorical(y_train)\n",
    "y_test = to_categorical(y_test)\n",
    "\n",
    "#create model\n",
    "model = Sequential()\n",
    "#add model layers\n",
    "model.add(Conv2D(64, kernel_size=3, activation=\"relu\", input_shape=(28,28,1)))\n",
    "model.add(Conv2D(32, kernel_size=3, activation=\"relu\"))\n",
    "model.add(Flatten())\n",
    "model.add(Dense(10, activation=\"softmax\"))\n",
    "\n",
    "#compile model using accuracy to measure model performance\n",
    "model.compile(optimizer='adam', loss='categorical_crossentropy', metrics=['accuracy'])"
   ]
  },
  {
   "cell_type": "markdown",
   "metadata": {},
   "source": [
    "### Careful! it could be hard to your computer (memory speaking)"
   ]
  },
  {
   "cell_type": "code",
   "execution_count": 38,
   "metadata": {},
   "outputs": [
    {
     "name": "stdout",
     "output_type": "stream",
     "text": [
      "Train on 60000 samples, validate on 10000 samples\n",
      "Epoch 1/3\n",
      "60000/60000 [==============================] - 269s 4ms/step - loss: 11.2454 - acc: 0.3017 - val_loss: 9.6240 - val_acc: 0.4028\n",
      "Epoch 2/3\n",
      "60000/60000 [==============================] - 256s 4ms/step - loss: 9.6785 - acc: 0.3994 - val_loss: 10.4974 - val_acc: 0.3484\n",
      "Epoch 3/3\n",
      "60000/60000 [==============================] - 282s 5ms/step - loss: 9.8130 - acc: 0.3910 - val_loss: 9.5838 - val_acc: 0.4054\n"
     ]
    }
   ],
   "source": [
    "#train the model\n",
    "history = model.fit(X_train, y_train, validation_data=(X_test, y_test), epochs=3)"
   ]
  },
  {
   "cell_type": "code",
   "execution_count": 39,
   "metadata": {},
   "outputs": [
    {
     "data": {
      "image/png": "[encoded data removed]",
      "text/plain": [
       "<matplotlib.figure.Figure at 0x123e64ef0>"
      ]
     },
     "metadata": {},
     "output_type": "display_data"
    },
    {
     "data": {
      "image/png": "[encoded data removed]",
      "text/plain": [
       "<matplotlib.figure.Figure at 0x123e64eb8>"
      ]
     },
     "metadata": {},
     "output_type": "display_data"
    }
   ],
   "source": [
    "#Trainning plot.\n",
    "plot(history.history['loss'],history.history['val_loss'],score[0])\n",
    "plot(history.history['acc'],history.history['val_acc'],score[1])"
   ]
  },
  {
   "cell_type": "markdown",
   "metadata": {},
   "source": [
    "## Mini-Batch Gradient Descent (SGD)\n",
    "\n",
    "Cost function is averaged over a small number of training examples\n",
    "\n",
    "\n",
    "Disadvantage:\n",
    "- It requires the configuration of the hyperparameter of the size of each batch.\n",
    "\n",
    "Advantage:\n",
    "<img src = images/MBGD-vs-the-rest.png width=\"450\" height=\"550\">\n",
    "\n",
    "\n",
    "Observation:\n",
    "\n",
    "<img src = images/lecunn.png width=\"350\" height=\"450\">\n",
    "\n",
    "For personal [read](https://arxiv.org/abs/1804.07612)"
   ]
  },
  {
   "cell_type": "code",
   "execution_count": 42,
   "metadata": {},
   "outputs": [
    {
     "name": "stdout",
     "output_type": "stream",
     "text": [
      "x_train shape: (1500, 28, 28, 1)\n",
      "1500 train samples\n",
      "1500 test samples\n",
      "Train on 1500 samples, validate on 1500 samples\n",
      "Epoch 1/50\n",
      "1500/1500 [==============================] - 9s 6ms/step - loss: 1.6458 - acc: 0.4460 - val_loss: 0.8166 - val_acc: 0.7367\n",
      "Epoch 2/50\n",
      "1500/1500 [==============================] - 9s 6ms/step - loss: 0.7693 - acc: 0.7660 - val_loss: 0.6051 - val_acc: 0.8040\n",
      "Epoch 3/50\n",
      "1500/1500 [==============================] - 8s 5ms/step - loss: 0.6003 - acc: 0.8153 - val_loss: 0.4786 - val_acc: 0.8453\n",
      "Epoch 4/50\n",
      "1500/1500 [==============================] - 8s 5ms/step - loss: 0.4842 - acc: 0.8553 - val_loss: 0.4891 - val_acc: 0.8393\n",
      "Epoch 5/50\n",
      "1500/1500 [==============================] - 8s 5ms/step - loss: 0.4175 - acc: 0.8707 - val_loss: 0.3699 - val_acc: 0.8860\n",
      "Epoch 6/50\n",
      "1500/1500 [==============================] - 8s 5ms/step - loss: 0.3422 - acc: 0.8900 - val_loss: 0.3281 - val_acc: 0.8933\n",
      "Epoch 7/50\n",
      "1500/1500 [==============================] - 10s 7ms/step - loss: 0.2583 - acc: 0.9213 - val_loss: 0.3225 - val_acc: 0.8973\n",
      "Epoch 8/50\n",
      "1500/1500 [==============================] - 9s 6ms/step - loss: 0.2841 - acc: 0.9047 - val_loss: 0.2825 - val_acc: 0.9093\n",
      "Epoch 9/50\n",
      "1500/1500 [==============================] - 9s 6ms/step - loss: 0.1941 - acc: 0.9433 - val_loss: 0.3021 - val_acc: 0.9080\n",
      "Epoch 10/50\n",
      "1500/1500 [==============================] - 8s 6ms/step - loss: 0.1803 - acc: 0.9373 - val_loss: 0.3059 - val_acc: 0.8940\n",
      "Epoch 11/50\n",
      "1500/1500 [==============================] - 9s 6ms/step - loss: 0.1601 - acc: 0.9467 - val_loss: 0.2561 - val_acc: 0.9193\n",
      "Epoch 12/50\n",
      "1500/1500 [==============================] - 9s 6ms/step - loss: 0.1551 - acc: 0.9480 - val_loss: 0.2742 - val_acc: 0.9100\n",
      "Epoch 13/50\n",
      "1500/1500 [==============================] - 9s 6ms/step - loss: 0.1217 - acc: 0.9580 - val_loss: 0.2685 - val_acc: 0.9207\n",
      "Epoch 14/50\n",
      "1500/1500 [==============================] - 8s 5ms/step - loss: 0.1083 - acc: 0.9653 - val_loss: 0.2489 - val_acc: 0.9247\n",
      "Epoch 15/50\n",
      "1500/1500 [==============================] - 8s 5ms/step - loss: 0.1235 - acc: 0.9613 - val_loss: 0.2247 - val_acc: 0.9233\n",
      "Epoch 16/50\n",
      "1500/1500 [==============================] - 9s 6ms/step - loss: 0.0885 - acc: 0.9733 - val_loss: 0.2784 - val_acc: 0.9227\n",
      "Epoch 17/50\n",
      "1500/1500 [==============================] - 9s 6ms/step - loss: 0.1041 - acc: 0.9653 - val_loss: 0.2746 - val_acc: 0.9200\n",
      "Epoch 18/50\n",
      "1500/1500 [==============================] - 8s 5ms/step - loss: 0.0828 - acc: 0.9760 - val_loss: 0.2599 - val_acc: 0.9267\n",
      "Epoch 19/50\n",
      "1500/1500 [==============================] - 8s 5ms/step - loss: 0.0717 - acc: 0.9793 - val_loss: 0.2921 - val_acc: 0.9207\n",
      "Epoch 20/50\n",
      "1500/1500 [==============================] - 8s 5ms/step - loss: 0.0892 - acc: 0.9700 - val_loss: 0.2521 - val_acc: 0.9267\n",
      "Epoch 21/50\n",
      "1500/1500 [==============================] - 8s 5ms/step - loss: 0.0722 - acc: 0.9753 - val_loss: 0.2507 - val_acc: 0.9360\n",
      "Epoch 22/50\n",
      "1500/1500 [==============================] - 8s 5ms/step - loss: 0.0594 - acc: 0.9800 - val_loss: 0.2743 - val_acc: 0.9247\n",
      "Epoch 23/50\n",
      "1500/1500 [==============================] - 8s 5ms/step - loss: 0.0457 - acc: 0.9853 - val_loss: 0.2531 - val_acc: 0.9367\n",
      "Epoch 24/50\n",
      "1500/1500 [==============================] - 8s 5ms/step - loss: 0.0477 - acc: 0.9860 - val_loss: 0.2593 - val_acc: 0.9387\n",
      "Epoch 25/50\n",
      "1500/1500 [==============================] - 9s 6ms/step - loss: 0.0439 - acc: 0.9853 - val_loss: 0.3023 - val_acc: 0.9300\n",
      "Epoch 26/50\n",
      "1500/1500 [==============================] - 9s 6ms/step - loss: 0.0408 - acc: 0.9847 - val_loss: 0.3044 - val_acc: 0.9320\n",
      "Epoch 27/50\n",
      "1500/1500 [==============================] - 8s 6ms/step - loss: 0.0595 - acc: 0.9800 - val_loss: 0.2646 - val_acc: 0.9300\n",
      "Epoch 28/50\n",
      "1500/1500 [==============================] - 8s 5ms/step - loss: 0.0534 - acc: 0.9827 - val_loss: 0.2631 - val_acc: 0.9360\n",
      "Epoch 29/50\n",
      "1500/1500 [==============================] - 8s 5ms/step - loss: 0.0466 - acc: 0.9847 - val_loss: 0.2828 - val_acc: 0.9293\n",
      "Epoch 30/50\n",
      "1500/1500 [==============================] - 8s 5ms/step - loss: 0.0424 - acc: 0.9873 - val_loss: 0.2687 - val_acc: 0.9360\n",
      "Epoch 31/50\n",
      "1500/1500 [==============================] - 8s 5ms/step - loss: 0.0462 - acc: 0.9860 - val_loss: 0.2675 - val_acc: 0.9347\n",
      "Epoch 32/50\n",
      "1500/1500 [==============================] - 8s 5ms/step - loss: 0.0394 - acc: 0.9867 - val_loss: 0.2615 - val_acc: 0.9320\n",
      "Epoch 33/50\n",
      "1500/1500 [==============================] - 8s 5ms/step - loss: 0.0319 - acc: 0.9887 - val_loss: 0.3058 - val_acc: 0.9273\n",
      "Epoch 34/50\n",
      "1500/1500 [==============================] - 8s 5ms/step - loss: 0.0440 - acc: 0.9847 - val_loss: 0.2812 - val_acc: 0.9313\n",
      "Epoch 35/50\n",
      "1500/1500 [==============================] - 8s 5ms/step - loss: 0.0376 - acc: 0.9833 - val_loss: 0.2706 - val_acc: 0.9387\n",
      "Epoch 36/50\n",
      "1500/1500 [==============================] - 8s 5ms/step - loss: 0.0351 - acc: 0.9873 - val_loss: 0.2751 - val_acc: 0.9327\n",
      "Epoch 37/50\n",
      "1500/1500 [==============================] - 7s 5ms/step - loss: 0.0201 - acc: 0.9947 - val_loss: 0.2649 - val_acc: 0.9427\n",
      "Epoch 38/50\n",
      "1500/1500 [==============================] - 7s 5ms/step - loss: 0.0239 - acc: 0.9927 - val_loss: 0.2798 - val_acc: 0.9427\n",
      "Epoch 39/50\n",
      "1500/1500 [==============================] - 7s 5ms/step - loss: 0.0298 - acc: 0.9887 - val_loss: 0.2809 - val_acc: 0.9313\n",
      "Epoch 40/50\n",
      "1500/1500 [==============================] - 7s 5ms/step - loss: 0.0282 - acc: 0.9880 - val_loss: 0.2775 - val_acc: 0.9407\n",
      "Epoch 41/50\n",
      "1500/1500 [==============================] - 7s 5ms/step - loss: 0.0306 - acc: 0.9880 - val_loss: 0.2880 - val_acc: 0.9293\n",
      "Epoch 42/50\n",
      "1500/1500 [==============================] - 7s 5ms/step - loss: 0.0288 - acc: 0.9907 - val_loss: 0.2738 - val_acc: 0.9407\n",
      "Epoch 43/50\n",
      "1500/1500 [==============================] - 8s 5ms/step - loss: 0.0349 - acc: 0.9887 - val_loss: 0.2492 - val_acc: 0.9387\n",
      "Epoch 44/50\n",
      "1500/1500 [==============================] - 7s 5ms/step - loss: 0.0177 - acc: 0.9947 - val_loss: 0.2972 - val_acc: 0.9367\n",
      "Epoch 45/50\n",
      "1500/1500 [==============================] - 8s 5ms/step - loss: 0.0203 - acc: 0.9947 - val_loss: 0.2816 - val_acc: 0.9373\n",
      "Epoch 46/50\n",
      "1500/1500 [==============================] - 7s 5ms/step - loss: 0.0337 - acc: 0.9860 - val_loss: 0.2651 - val_acc: 0.9400\n",
      "Epoch 47/50\n",
      "1500/1500 [==============================] - 8s 5ms/step - loss: 0.0249 - acc: 0.9893 - val_loss: 0.3060 - val_acc: 0.9327\n",
      "Epoch 48/50\n",
      "1500/1500 [==============================] - 8s 5ms/step - loss: 0.0395 - acc: 0.9833 - val_loss: 0.2739 - val_acc: 0.9387\n",
      "Epoch 49/50\n",
      "1500/1500 [==============================] - 7s 5ms/step - loss: 0.0155 - acc: 0.9960 - val_loss: 0.2828 - val_acc: 0.9413\n",
      "Epoch 50/50\n",
      "1500/1500 [==============================] - 7s 5ms/step - loss: 0.0224 - acc: 0.9913 - val_loss: 0.2995 - val_acc: 0.9400\n",
      "Test loss: 0.29945491447051364\n",
      "Test accuracy: 0.94\n"
     ]
    }
   ],
   "source": [
    "batch_size = 32\n",
    "num_classes = 10\n",
    "epochs = 50\n",
    "\n",
    "# input image dimensions\n",
    "img_rows, img_cols = 28, 28\n",
    "\n",
    "# the data, split between train and test sets\n",
    "(x_train, y_train), (x_test, y_test) = mnist.load_data()\n",
    "\n",
    "if K.image_data_format() == 'channels_first':\n",
    "    x_train = x_train.reshape(x_train.shape[0], 1, img_rows, img_cols)\n",
    "    x_test = x_test.reshape(x_test.shape[0], 1, img_rows, img_cols)\n",
    "    input_shape = (1, img_rows, img_cols)\n",
    "else:\n",
    "    x_train = x_train.reshape(x_train.shape[0], img_rows, img_cols, 1)\n",
    "    x_test = x_test.reshape(x_test.shape[0], img_rows, img_cols, 1)\n",
    "    input_shape = (img_rows, img_cols, 1)\n",
    "\n",
    "x_train = x_train.astype('float32')\n",
    "x_test = x_test.astype('float32')\n",
    "x_train = x_train[:1500]\n",
    "y_train = y_train[:1500]\n",
    "x_test = x_test[:1500]\n",
    "y_test = y_test[:1500]\n",
    "x_test /= 255\n",
    "x_train /= 255\n",
    "print('x_train shape:', x_train.shape)\n",
    "print(x_train.shape[0], 'train samples')\n",
    "print(x_test.shape[0], 'test samples')\n",
    "\n",
    "\n",
    "# convert class vectors to binary class matrices\n",
    "y_train = keras.utils.to_categorical(y_train, num_classes)\n",
    "y_test = keras.utils.to_categorical(y_test, num_classes)\n",
    "\n",
    "model = Sequential()\n",
    "model.add(Conv2D(32, kernel_size=(3, 3),\n",
    "                 activation='relu',\n",
    "                 input_shape=input_shape))\n",
    "model.add(Conv2D(64, (3, 3), activation='relu'))\n",
    "model.add(MaxPooling2D(pool_size=(2, 2)))\n",
    "model.add(Dropout(0.25))\n",
    "model.add(Flatten())\n",
    "model.add(Dense(128, activation='relu'))\n",
    "model.add(Dropout(0.5))\n",
    "model.add(Dense(num_classes, activation='softmax'))\n",
    "\n",
    "sgd = optimizers.SGD(lr=0.01, decay=1e-6, momentum=0.9, nesterov=True)\n",
    "\n",
    "model.compile(loss=keras.losses.categorical_crossentropy,\n",
    "              optimizer=sgd,\n",
    "              metrics=['accuracy'])\n",
    "\n",
    "history = model.fit(x_train, y_train,\n",
    "          batch_size=batch_size,\n",
    "          epochs=epochs,\n",
    "          verbose=1,\n",
    "          validation_data=(x_test, y_test))\n",
    "\n",
    "score = model.evaluate(x_test, y_test, verbose=0)\n",
    "print('Test loss:', score[0])\n",
    "print('Test accuracy:', score[1])"
   ]
  },
  {
   "cell_type": "code",
   "execution_count": 43,
   "metadata": {},
   "outputs": [
    {
     "data": {
      "image/png": "[encoded data removed]",
      "text/plain": [
       "<matplotlib.figure.Figure at 0x13299b9b0>"
      ]
     },
     "metadata": {},
     "output_type": "display_data"
    },
    {
     "data": {
      "image/png": "[encoded data removed]",
      "text/plain": [
       "<matplotlib.figure.Figure at 0x12ab00e10>"
      ]
     },
     "metadata": {},
     "output_type": "display_data"
    }
   ],
   "source": [
    "#Trainning plot.\n",
    "plot(history.history['loss'],history.history['val_loss'],score[0])\n",
    "plot(history.history['acc'],history.history['val_acc'],score[1])"
   ]
  },
  {
   "cell_type": "code",
   "execution_count": 44,
   "metadata": {},
   "outputs": [
    {
     "name": "stdout",
     "output_type": "stream",
     "text": [
      "Train on 1500 samples, validate on 1500 samples\n",
      "Epoch 1/50\n",
      "1500/1500 [==============================] - 9s 6ms/step - loss: 0.0238 - acc: 0.9920 - val_loss: 0.2961 - val_acc: 0.9407\n",
      "Epoch 2/50\n",
      "1500/1500 [==============================] - 9s 6ms/step - loss: 0.0223 - acc: 0.9900 - val_loss: 0.2731 - val_acc: 0.9427\n",
      "Epoch 3/50\n",
      "1500/1500 [==============================] - 10s 7ms/step - loss: 0.0282 - acc: 0.9900 - val_loss: 0.2807 - val_acc: 0.9420\n",
      "Epoch 4/50\n",
      "1500/1500 [==============================] - 8s 5ms/step - loss: 0.0198 - acc: 0.9927 - val_loss: 0.2899 - val_acc: 0.9347\n",
      "Epoch 5/50\n",
      "1500/1500 [==============================] - 8s 5ms/step - loss: 0.0192 - acc: 0.9953 - val_loss: 0.2737 - val_acc: 0.9467\n",
      "Epoch 6/50\n",
      "1500/1500 [==============================] - 7s 5ms/step - loss: 0.0207 - acc: 0.9933 - val_loss: 0.2684 - val_acc: 0.9440\n",
      "Epoch 7/50\n",
      "1500/1500 [==============================] - 7s 5ms/step - loss: 0.0223 - acc: 0.9907 - val_loss: 0.2539 - val_acc: 0.9467\n",
      "Epoch 8/50\n",
      "1500/1500 [==============================] - 7s 5ms/step - loss: 0.0127 - acc: 0.9947 - val_loss: 0.2702 - val_acc: 0.9440\n",
      "Epoch 9/50\n",
      "1500/1500 [==============================] - 8s 5ms/step - loss: 0.0136 - acc: 0.9960 - val_loss: 0.2817 - val_acc: 0.9440\n",
      "Epoch 10/50\n",
      "1500/1500 [==============================] - 8s 5ms/step - loss: 0.0121 - acc: 0.9960 - val_loss: 0.3320 - val_acc: 0.9320\n",
      "Epoch 11/50\n",
      "1500/1500 [==============================] - 8s 5ms/step - loss: 0.0196 - acc: 0.9920 - val_loss: 0.3149 - val_acc: 0.9407\n",
      "Epoch 12/50\n",
      "1500/1500 [==============================] - 8s 5ms/step - loss: 0.0101 - acc: 0.9967 - val_loss: 0.3062 - val_acc: 0.9393\n"
     ]
    },
    {
     "data": {
      "image/png": "[encoded data removed]",
      "text/plain": [
       "<matplotlib.figure.Figure at 0x1136dd400>"
      ]
     },
     "metadata": {},
     "output_type": "display_data"
    },
    {
     "data": {
      "image/png": "[encoded data removed]",
      "text/plain": [
       "<matplotlib.figure.Figure at 0x12acbcf60>"
      ]
     },
     "metadata": {},
     "output_type": "display_data"
    }
   ],
   "source": [
    "early_stopping_monitor = EarlyStopping(patience=5)\n",
    "\n",
    "history = model.fit(x_train, y_train,\n",
    "          batch_size=batch_size,\n",
    "          epochs=epochs,\n",
    "          verbose=1,\n",
    "          validation_data=(x_test, y_test),\n",
    "          callbacks=[early_stopping_monitor])\n",
    "#Trainning plot.\n",
    "plot(history.history['loss'],history.history['val_loss'],score[0])\n",
    "plot(history.history['acc'],history.history['val_acc'],score[1])"
   ]
  },
  {
   "cell_type": "markdown",
   "metadata": {},
   "source": [
    "## And how it goes?\n",
    "\n",
    "<img src = images/Cover3rd.png>"
   ]
  },
  {
   "cell_type": "markdown",
   "metadata": {},
   "source": [
    "# Disclaimer  \n",
    "\n",
    "This should be a good start to understanding CNNs, it is by no means a comprehensive overview. Things not discussed here include the nonlinear and pooling layers as well as hyperparameters of the network such as filter sizes. Topics like network architecture, batch normalization, vanishing gradients, initialization techniques, non-convex optimization, biases, choices of loss functions, data augmentation, regularization methods, computational considerations, modifications of backpropagation, and more were also not discussed "
   ]
  },
  {
   "cell_type": "markdown",
   "metadata": {},
   "source": [
    "## Extras\n",
    "I higly reccommend the next links:\n",
    "- [deep learning course](http://introtodeeplearning.com) del MIT\n",
    "- A convolutional [neural network example for sign language](https://www.kaggle.com/pouryaayria/convolutional-neural-networks-tutorial-tensorflow) available in kaggle\n",
    "- [When to Use MLP, CNN, and RNN Neural Networks](https://machinelearningmastery.com/when-to-use-mlp-cnn-and-rnn-neural-networks/)\n",
    "- A series of CNN tutorials from scratch: [1](https://adeshpande3.github.io/A-Beginner%27s-Guide-To-Understanding-Convolutional-Neural-Networks/), [2](https://adeshpande3.github.io/adeshpande3.github.io/A-Beginner's-Guide-To-Understanding-Convolutional-Neural-Networks-Part-2/) and [3](https://adeshpande3.github.io/adeshpande3.github.io/The-9-Deep-Learning-Papers-You-Need-To-Know-About.html)\n",
    "- [Simple Introduction to Convolutional Neural Networks](https://towardsdatascience.com/simple-introduction-to-convolutional-neural-networks-cdf8d3077bac)"
   ]
  }
 ],
 "metadata": {
  "kernelspec": {
   "display_name": "Python [conda root]",
   "language": "python",
   "name": "conda-root-py"
  },
  "language_info": {
   "codemirror_mode": {
    "name": "ipython",
    "version": 3
   },
   "file_extension": ".py",
   "mimetype": "text/x-python",
   "name": "python",
   "nbconvert_exporter": "python",
   "pygments_lexer": "ipython3",
   "version": "3.6.7"
  }
 },
 "nbformat": 4,
 "nbformat_minor": 2
}
