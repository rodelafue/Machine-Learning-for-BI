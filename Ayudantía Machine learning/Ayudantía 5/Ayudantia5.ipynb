{
 "cells": [
  {
   "cell_type": "markdown",
   "metadata": {},
   "source": [
    "# Decision Trees\n",
    "\n",
    "(Agradecimientos a Pavlos Protopapas (Harvard U.), Manuel Pérez y Guille Cabrera (UdeC))"
   ]
  },
  {
   "cell_type": "markdown",
   "metadata": {},
   "source": [
    "\n",
    "Recordando, la regresión logística para clasificación funciona mucho mejor cuando las clases se encuentran bien separadas dentro del espacio de características (feature space) y el límite de decisión (decision boundary) puede ser definido por una ecuación:\n",
    "\n",
    "$f(x1,...,xJ) = 0$\n",
    "\n",
    "\n",
    "El siguiente es un dataset tipico para regresión logistica con un límite de decisión lineal: \n",
    "\n",
    "\n",
    "<img src=\"https://www.cntk.ai/jup/cancer_classify_plot.jpg\">\n",
    "\n",
    "Mientras los modelos de regresión logística con límites de decisión lineales son intuitivos y fáciles de interpretar al observar el límite de decisión de cada predictor, es muy dificil de interpretar limites de decisión no lineales:\n",
    "\n",
    "\n",
    "$(x_{3} +2x_{2})^{2} −x_{1} +10 = 0$\n",
    "\n",
    "\n",
    "Sería deseable construir modelos con límites de decisión complejos que también sean fáciles de interpretar, pues como humanos, siempre intentamos buscar modelos interpretables para diferenciar entre clases de objetos y fenómenos:\n",
    "\n",
    "<img src=\"http://dataaspirant.com/wp-content/uploads/2017/01/B03905_05_01-compressor.png\">\n",
    "\n",
    "\n",
    "Resulta que los diagramas de flujo simples como el del ejemplo, pueden formularse como modelos matemáticos para la clasificación y estos modelos tienen las propiedades que deseamos:\n",
    "1. Interpretabilidad\n",
    "2. Límites de decisión más complejos\n",
    "3. Límites de decisión localmente lineales, donde cada componente del limite de decisión es simple de describir matemáticamente.\n",
    "\n",
    "\n",
    "La idea detrás de los árboles de regresión es dividir iterativamente el espacio de coordenadas linealmente en diferentes regiones. Asociamos un número real a cada hoja del árbol. El valor de cada hoja se obtiene al minimizar el error al cuadrado\n",
    "\n",
    "$\\hat{f}(x) = \\mathrm{argmin}_y\\sum_{i|x_i\\in R(x)}(y-y_i)^2$, donde $R(x)$ es la región (u hoja) donde $x$ miente. \n",
    "Optimizando esa expresión simple, se puede demostrar que el valor regresivo constante para cada región es solo el promedio de los valores $y_i$ de las instancias que caen en esa región.\n",
    "\n",
    "<img src = images/TreeRegression.png/>\n",
    "\n",
    "Dado un arbol $T$, la suma cuadrada de los errores es:\n",
    "\\begin{equation}\n",
    "S = \\sum_{c\\in\\mathrm{leaves}(T)}\\sum_{i\\in c} (y_i - m_c)^2.\n",
    "\\end{equation}\n",
    "\n",
    "Cada nodo es determinado dividiendo el espacio coordenado en el sentido que se minimize el error.\n",
    "\n",
    "#### Algoritmo:\n",
    "\n",
    "* Empezar con un único nodo que contiene todos los puntos. Calcular $m_c$ (espacio) and $S$ (error).\n",
    "* Si (todos los puntos en el nodo tienen el mismo valor para todas las variables independientes):\n",
    "  * stop\n",
    "* Sino:\n",
    "  * buscar sobre todas las divisiones binarias de todas las variables, tal que estas reduzcan $S$ tanto como sea posible. \n",
    "  * Si (la mayor disminución en $ S $ es menor que algún umbral $ \\ delta $) o (uno de los nodos resultantes\n",
    "Contiene menos de $ q $ puntos)\n",
    "    * stop\n",
    "  * Sino:\n",
    "    * Tomar esa división y crear dos nuevos nodos.\n",
    "  * Para cada nuevo nodo:\n",
    "      Repetir el procedimiento"
   ]
  },
  {
   "cell_type": "markdown",
   "metadata": {},
   "source": [
    "# The wine aficionado\n",
    "\n",
    "¿Puede un productor de vino predecir cómo se recibirá un vino en función de las propiedades químicas de éste? ¿Hay indicadores químicos que se correlacionen más fuertemente con la \"calidad\" percibida de un vino?\n",
    "\n",
    "Examinamos el conjunto de datos de calidad del vino alojado en el <a href=\"https://archive.ics.uci.edu/ml/datasets/Wine+Quality\"> sitio web de UCI </a>. Estos datos registran 11 propiedades químicas (como las concentraciones de azúcar, ácido cítrico, alcohol, pH, etc.) de miles de vinos tintos y blancos del norte de Portugal, así como la calidad de los vinos, registrados en una escala del 1 al 10. En este problema, solo veremos los datos de vino tinto."
   ]
  },
  {
   "cell_type": "markdown",
   "metadata": {},
   "source": [
    "<img src=\"http://www.winemaniacs.com/wp-content/uploads/2013/04/WineRotator-2000x925.jpg\">"
   ]
  },
  {
   "cell_type": "code",
   "execution_count": 1,
   "metadata": {},
   "outputs": [
    {
     "data": {
      "text/html": [
       "<div>\n",
       "<style scoped>\n",
       "    .dataframe tbody tr th:only-of-type {\n",
       "        vertical-align: middle;\n",
       "    }\n",
       "\n",
       "    .dataframe tbody tr th {\n",
       "        vertical-align: top;\n",
       "    }\n",
       "\n",
       "    .dataframe thead th {\n",
       "        text-align: right;\n",
       "    }\n",
       "</style>\n",
       "<table border=\"1\" class=\"dataframe\">\n",
       "  <thead>\n",
       "    <tr style=\"text-align: right;\">\n",
       "      <th></th>\n",
       "      <th>fixed acidity</th>\n",
       "      <th>volatile acidity</th>\n",
       "      <th>citric acid</th>\n",
       "      <th>residual sugar</th>\n",
       "      <th>chlorides</th>\n",
       "      <th>free sulfur dioxide</th>\n",
       "      <th>total sulfur dioxide</th>\n",
       "      <th>density</th>\n",
       "      <th>pH</th>\n",
       "      <th>sulphates</th>\n",
       "      <th>alcohol</th>\n",
       "      <th>quality</th>\n",
       "    </tr>\n",
       "  </thead>\n",
       "  <tbody>\n",
       "    <tr>\n",
       "      <th>0</th>\n",
       "      <td>7.4</td>\n",
       "      <td>0.70</td>\n",
       "      <td>0.00</td>\n",
       "      <td>1.9</td>\n",
       "      <td>0.076</td>\n",
       "      <td>11.0</td>\n",
       "      <td>34.0</td>\n",
       "      <td>0.9978</td>\n",
       "      <td>3.51</td>\n",
       "      <td>0.56</td>\n",
       "      <td>9.4</td>\n",
       "      <td>5</td>\n",
       "    </tr>\n",
       "    <tr>\n",
       "      <th>1</th>\n",
       "      <td>7.8</td>\n",
       "      <td>0.88</td>\n",
       "      <td>0.00</td>\n",
       "      <td>2.6</td>\n",
       "      <td>0.098</td>\n",
       "      <td>25.0</td>\n",
       "      <td>67.0</td>\n",
       "      <td>0.9968</td>\n",
       "      <td>3.20</td>\n",
       "      <td>0.68</td>\n",
       "      <td>9.8</td>\n",
       "      <td>5</td>\n",
       "    </tr>\n",
       "    <tr>\n",
       "      <th>2</th>\n",
       "      <td>7.8</td>\n",
       "      <td>0.76</td>\n",
       "      <td>0.04</td>\n",
       "      <td>2.3</td>\n",
       "      <td>0.092</td>\n",
       "      <td>15.0</td>\n",
       "      <td>54.0</td>\n",
       "      <td>0.9970</td>\n",
       "      <td>3.26</td>\n",
       "      <td>0.65</td>\n",
       "      <td>9.8</td>\n",
       "      <td>5</td>\n",
       "    </tr>\n",
       "    <tr>\n",
       "      <th>3</th>\n",
       "      <td>11.2</td>\n",
       "      <td>0.28</td>\n",
       "      <td>0.56</td>\n",
       "      <td>1.9</td>\n",
       "      <td>0.075</td>\n",
       "      <td>17.0</td>\n",
       "      <td>60.0</td>\n",
       "      <td>0.9980</td>\n",
       "      <td>3.16</td>\n",
       "      <td>0.58</td>\n",
       "      <td>9.8</td>\n",
       "      <td>6</td>\n",
       "    </tr>\n",
       "    <tr>\n",
       "      <th>4</th>\n",
       "      <td>7.4</td>\n",
       "      <td>0.70</td>\n",
       "      <td>0.00</td>\n",
       "      <td>1.9</td>\n",
       "      <td>0.076</td>\n",
       "      <td>11.0</td>\n",
       "      <td>34.0</td>\n",
       "      <td>0.9978</td>\n",
       "      <td>3.51</td>\n",
       "      <td>0.56</td>\n",
       "      <td>9.4</td>\n",
       "      <td>5</td>\n",
       "    </tr>\n",
       "  </tbody>\n",
       "</table>\n",
       "</div>"
      ],
      "text/plain": [
       "   fixed acidity  volatile acidity  citric acid  residual sugar  chlorides  \\\n",
       "0            7.4              0.70         0.00             1.9      0.076   \n",
       "1            7.8              0.88         0.00             2.6      0.098   \n",
       "2            7.8              0.76         0.04             2.3      0.092   \n",
       "3           11.2              0.28         0.56             1.9      0.075   \n",
       "4            7.4              0.70         0.00             1.9      0.076   \n",
       "\n",
       "   free sulfur dioxide  total sulfur dioxide  density    pH  sulphates  \\\n",
       "0                 11.0                  34.0   0.9978  3.51       0.56   \n",
       "1                 25.0                  67.0   0.9968  3.20       0.68   \n",
       "2                 15.0                  54.0   0.9970  3.26       0.65   \n",
       "3                 17.0                  60.0   0.9980  3.16       0.58   \n",
       "4                 11.0                  34.0   0.9978  3.51       0.56   \n",
       "\n",
       "   alcohol  quality  \n",
       "0      9.4        5  \n",
       "1      9.8        5  \n",
       "2      9.8        5  \n",
       "3      9.8        6  \n",
       "4      9.4        5  "
      ]
     },
     "execution_count": 1,
     "metadata": {},
     "output_type": "execute_result"
    }
   ],
   "source": [
    "import numpy as np\n",
    "import pandas as pd\n",
    "import matplotlib.pyplot as plt\n",
    "from sklearn.tree import DecisionTreeRegressor, DecisionTreeClassifier\n",
    "\n",
    "df = pd.read_csv('https://archive.ics.uci.edu/ml/machine-learning-databases/wine-quality/winequality-red.csv', sep=';')\n",
    "df.head()"
   ]
  },
  {
   "cell_type": "code",
   "execution_count": 2,
   "metadata": {},
   "outputs": [
    {
     "name": "stdout",
     "output_type": "stream",
     "text": [
      "(1599, 12)\n"
     ]
    },
    {
     "data": {
      "image/png": "[encoded data removed]",
      "text/plain": [
       "<matplotlib.figure.Figure at 0x10237fcc0>"
      ]
     },
     "metadata": {},
     "output_type": "display_data"
    }
   ],
   "source": [
    "print(df.shape)\n",
    "plt.hist(df.quality)\n",
    "plt.show()"
   ]
  },
  {
   "cell_type": "markdown",
   "metadata": {},
   "source": [
    "\n",
    "Utilizaremos la columna de calidad como nuestra variable objetivo. Excepto que simplificaremos el problema a un mundo binario en el que los vinos son \"malos\" (puntuación <7 puntuación <7) o \"buena\" (puntuación> 7) puntuación≥7). Por ejemplo, si originalmente Y = [1,3,8,4,7] Y = [1,3,8,4,7], el nuevo YY debería ser [0,0,1,0,1] [0 , 0,1,0,1]."
   ]
  },
  {
   "cell_type": "code",
   "execution_count": 3,
   "metadata": {},
   "outputs": [
    {
     "name": "stderr",
     "output_type": "stream",
     "text": [
      "/anaconda3/lib/python3.6/site-packages/ipykernel/__main__.py:4: FutureWarning: Method .as_matrix will be removed in a future version. Use .values instead.\n"
     ]
    }
   ],
   "source": [
    "Y = df['quality'].values\n",
    "df_tmp = df.drop('quality',1)\n",
    "Y = np.array([1 if y>=7 else 0 for y in Y])\n",
    "X = df_tmp.as_matrix()\n",
    "\n",
    "df['target'] = (df['quality'].values >=7)*1."
   ]
  },
  {
   "cell_type": "code",
   "execution_count": 4,
   "metadata": {},
   "outputs": [
    {
     "data": {
      "image/png": "[encoded data removed]",
      "text/plain": [
       "<matplotlib.figure.Figure at 0x103480a20>"
      ]
     },
     "metadata": {},
     "output_type": "display_data"
    }
   ],
   "source": [
    "plt.hist(df.target)\n",
    "plt.show()"
   ]
  },
  {
   "cell_type": "markdown",
   "metadata": {},
   "source": [
    "Tenemos un problema en el cual las clases están desbalanceadas, por lo cual una buena medida de error puede ser \n",
    "f1-score. Recordando:\n",
    "\n",
    "donde $TP$=True Positive, $FN$= False Negative...etc\n",
    "\n",
    "**recall**\n",
    "$$\\text{recall} = \\frac{TP}{P}=\\frac{TP}{TP+FN}.$$\n",
    "**precision**\n",
    "$$\\text{precision} = \\frac{TP}{TP+FP}.$$\n",
    "F1-Score es la combinación entre ambas medidas de error:\n",
    "$$F_1 = \\frac{2\\times\\text{recall}\\times\\text{precision}}{\\text{recall} + \\text{precision}}.$$\n",
    "\n"
   ]
  },
  {
   "cell_type": "markdown",
   "metadata": {},
   "source": [
    "### Interpretación de un árbol de decisión\n",
    "\n",
    "Construir un árbol de decisiones no es mucho más difícil que leer uno, aquí está el resumen esencial:\n",
    "\n",
    "Digamos que estamos construyendo un árbol de clasificación al considerar una lista de predictores. En nuestro ejemplo anterior, queremos poder clasificar los buenos vinos del resto usando cosas como la acidez fija, el pH, el alcohol, etc. Todas estas son variables continuas, genéricamente las llamaremos $ X_{i1}, X_{i2},. .., X_{ip} $ ($ i $ para vino, $ p $ para predictores). También tenemos una etiqueta observada $ Y_i $ por cada vino.\n",
    "\n",
    "Primero asignamos a todos a la misma clase, digamos $ \\hat{Y_i} = 1 $. Podemos calcular el error al cuadrado $ Err = \\sum_i {(\\hat{Y_i} - Y_i) ^ 2} $\n",
    "\n",
    "- En ** cada paso ** del algoritmo, consideramos una lista de posibles decisiones (o divisiones), por ejemplo, $ X_{10}> 12 $, es decir, el contenido de alcohol es superior al 12%.\n",
    "- Para cada decisión posible recalculamos el predictor para esa regla, por ejemplo $ \\hat{Y_i} = 1 $ si $ X_ {10}> 12 $ y $ 0 $ de lo contrario.\n",
    "- Recalculamos el error para cada posible decisión: $ Err = \\sum_i {(\\hat{Y_i} - Y_i) ^ 2} $\n",
    "- Elegimos la decisión que reduce el error por la cantidad más grande\n",
    "- Entonces sigue ..."
   ]
  },
  {
   "cell_type": "code",
   "execution_count": 5,
   "metadata": {},
   "outputs": [
    {
     "ename": "ModuleNotFoundError",
     "evalue": "No module named 'pydotplus'",
     "output_type": "error",
     "traceback": [
      "\u001b[0;31m---------------------------------------------------------------------------\u001b[0m",
      "\u001b[0;31mModuleNotFoundError\u001b[0m                       Traceback (most recent call last)",
      "\u001b[0;32m<ipython-input-5-61dffa6aa122>\u001b[0m in \u001b[0;36m<module>\u001b[0;34m()\u001b[0m\n\u001b[1;32m      1\u001b[0m \u001b[0;32mfrom\u001b[0m \u001b[0mIPython\u001b[0m\u001b[0;34m.\u001b[0m\u001b[0mdisplay\u001b[0m \u001b[0;32mimport\u001b[0m \u001b[0mImage\u001b[0m\u001b[0;34m\u001b[0m\u001b[0m\n\u001b[0;32m----> 2\u001b[0;31m \u001b[0;32mimport\u001b[0m \u001b[0mpydotplus\u001b[0m\u001b[0;34m\u001b[0m\u001b[0m\n\u001b[0m\u001b[1;32m      3\u001b[0m \u001b[0;32mimport\u001b[0m \u001b[0mio\u001b[0m\u001b[0;34m\u001b[0m\u001b[0m\n\u001b[1;32m      4\u001b[0m \u001b[0;32mfrom\u001b[0m \u001b[0msklearn\u001b[0m\u001b[0;34m.\u001b[0m\u001b[0mtree\u001b[0m \u001b[0;32mimport\u001b[0m \u001b[0mexport_graphviz\u001b[0m\u001b[0;34m\u001b[0m\u001b[0m\n\u001b[1;32m      5\u001b[0m \u001b[0;32mfrom\u001b[0m \u001b[0mStringIO\u001b[0m \u001b[0;32mimport\u001b[0m \u001b[0mStringIO\u001b[0m\u001b[0;34m\u001b[0m\u001b[0m\n",
      "\u001b[0;31mModuleNotFoundError\u001b[0m: No module named 'pydotplus'"
     ]
    }
   ],
   "source": [
    "from IPython.display import Image\n",
    "import pydotplus\n",
    "import io\n",
    "from sklearn.tree import export_graphviz\n",
    "from StringIO import StringIO\n",
    "\n",
    "# https://github.com/JWarmenhoven/ISLR-python\n",
    "def print_tree(estimator, features, class_names=None, filled=True):\n",
    "    tree = estimator\n",
    "    names = features\n",
    "    color = filled\n",
    "    classn = class_names\n",
    "    \n",
    "    dot_data = io.StringIO()\n",
    "    export_graphviz(estimator, out_file=dot_data, feature_names=features, proportion=True, class_names=classn, filled=filled)\n",
    "    graph = pydotplus.graph_from_dot_data(dot_data.getvalue())\n",
    "    return(graph)"
   ]
  },
  {
   "cell_type": "code",
   "execution_count": 6,
   "metadata": {},
   "outputs": [
    {
     "name": "stdout",
     "output_type": "stream",
     "text": [
      "f1-score en el set de entrenamiento: 0.07\n",
      "f1-score en el set de prueba:     0.05\n",
      "[[409   0]\n",
      " [ 69   2]]\n"
     ]
    }
   ],
   "source": [
    "from sklearn.model_selection import train_test_split\n",
    "from sklearn.metrics import confusion_matrix\n",
    "from sklearn.metrics import f1_score\n",
    "\n",
    "\n",
    "subdf=df[['sulphates', 'fixed acidity']]\n",
    "X=subdf.values\n",
    "Y=df['target'].values\n",
    "\n",
    "clfTree1 = DecisionTreeClassifier(max_depth=3, criterion='gini')\n",
    "\n",
    "Xtrain, Xtest, ytrain, ytest = train_test_split(X, Y, test_size=0.3, random_state=77)\n",
    "\n",
    "clf=clfTree1.fit(Xtrain, ytrain)\n",
    "\n",
    "training_score = f1_score(clf.predict(Xtrain), ytrain)\n",
    "test_score = f1_score(clf.predict(Xtest), ytest)\n",
    "print(\"f1-score en el set de entrenamiento: %0.2f\" % (training_score))\n",
    "print(\"f1-score en el set de prueba:     %0.2f\" % (test_score))\n",
    "print(confusion_matrix(ytest, clf.predict(Xtest)))"
   ]
  },
  {
   "cell_type": "code",
   "execution_count": 108,
   "metadata": {
    "collapsed": true
   },
   "outputs": [],
   "source": [
    "#graph3 = print_tree(clf, features=['alcohol', 'sulphates'], class_names=['No', 'Yes'])\n",
    "#Image(graph3.create_png())"
   ]
  },
  {
   "cell_type": "markdown",
   "metadata": {},
   "source": [
    "<img src = images/Tree.png>"
   ]
  },
  {
   "cell_type": "markdown",
   "metadata": {},
   "source": [
    "# Random Forest Classifier\n",
    "\n",
    "\n",
    "Random Forest funciona al agregar los resultados de una serie de árboles de decisión alterados aleatoriamente construidos para explicar los datos.\n",
    "\n",
    "### Un poco de bootstrap aggregation\n",
    "\n",
    "La idea de Random Forest surge de manera natural al considerar un Tree bagging. En Tree bagging hacemos lo siguiente $ b $ veces:\n",
    "\n",
    "1. Tomar una submuestra aleatoria de los datos.\n",
    "2. Construir un arbol de clasificación (regresión) como en la sección previa\n",
    "3. Repetir\n",
    "\n",
    "Para un nuevo dato, podemos simplemente ejecutar ese punto a través de todos los árboles $ b $ construidos, obtener todas las decisiones $ \\hat{Y_1}, ..., \\hat{Y_b} $ y obtener la mayoría de los votos. Esta forma de promediar elimina algunos de los problemas de ajuste que se encuentran en el uso de un solo árbol. Además, ajustar estos árboles cuesta mucho computacionalmente, entonces, ¿qué más podemos hacer?\n",
    "\n",
    "\n",
    "### Random Forests\n",
    "Este método es muy similar al método de agregación bootstrap. Sin embargo, como su nombre indica, se inyecta algo de aleatoriedad adicional en la construcción de los árboles. Resulta que los árboles que se construyen a partir de la submuestra aleatoria de sus datos son bastante similares, por lo que la solución es bastante simple. En Random Forests hacemos los siguientes $ b $ veces:\n",
    "\n",
    "1. Tomar una submuestra aleatoria de los datos.\n",
    "2. Elegir aleatoriamente un numero de predictores a ser utilizados en la construcción del árbol.\n",
    "3. Construir un árbol de clasificación (o regresión) sólo con las variables seleccionadas en 2.\n",
    "4. Repetir\n"
   ]
  },
  {
   "cell_type": "code",
   "execution_count": 7,
   "metadata": {},
   "outputs": [
    {
     "name": "stdout",
     "output_type": "stream",
     "text": [
      "f1-score en el set de entrenamiento: 0.85\n",
      "f1-score en el set de prueba:     0.35\n",
      "[[389  20]\n",
      " [ 52  19]]\n"
     ]
    },
    {
     "name": "stderr",
     "output_type": "stream",
     "text": [
      "/anaconda3/lib/python3.6/site-packages/sklearn/ensemble/forest.py:453: UserWarning: Some inputs do not have OOB scores. This probably means too few trees were used to compute any reliable oob estimates.\n",
      "  warn(\"Some inputs do not have OOB scores. \"\n",
      "/anaconda3/lib/python3.6/site-packages/sklearn/ensemble/forest.py:458: RuntimeWarning: invalid value encountered in true_divide\n",
      "  predictions[k].sum(axis=1)[:, np.newaxis])\n"
     ]
    }
   ],
   "source": [
    "from sklearn.ensemble import RandomForestClassifier\n",
    "\n",
    "\n",
    "\n",
    "clfForest = RandomForestClassifier(n_estimators=10, oob_score=True, max_features='auto')\n",
    "clf=clfForest.fit(Xtrain, ytrain)\n",
    "\n",
    "training_score = f1_score(clf.predict(Xtrain), ytrain)\n",
    "test_score = f1_score(clf.predict(Xtest), ytest)\n",
    "print(\"f1-score en el set de entrenamiento: %0.2f\" % (training_score))\n",
    "print(\"f1-score en el set de prueba:     %0.2f\" % (test_score))\n",
    "print(confusion_matrix(ytest, clf.predict(Xtest)))"
   ]
  },
  {
   "cell_type": "markdown",
   "metadata": {},
   "source": [
    "# Con todas las variables:"
   ]
  },
  {
   "cell_type": "code",
   "execution_count": 8,
   "metadata": {
    "collapsed": true
   },
   "outputs": [],
   "source": [
    "Y = df['quality'].values\n",
    "Y = np.array([1 if y>=7 else 0 for y in Y])\n",
    "X = df.loc[:, :'alcohol'].values\n",
    "Xtrain, Xtest, ytrain, ytest = train_test_split(X, Y, test_size=0.3, random_state=77)"
   ]
  },
  {
   "cell_type": "code",
   "execution_count": 9,
   "metadata": {},
   "outputs": [
    {
     "name": "stdout",
     "output_type": "stream",
     "text": [
      "f1-score en el set de entrenamiento: 0.45\n",
      "f1-score en el set de prueba:     0.49\n",
      "[[403   6]\n",
      " [ 46  25]]\n"
     ]
    }
   ],
   "source": [
    "clfTree1 = DecisionTreeClassifier(max_depth=3, criterion='gini')\n",
    "\n",
    "Xtrain, Xtest, ytrain, ytest = train_test_split(X, Y, test_size=0.3, random_state=77)\n",
    "\n",
    "clf = clfTree1.fit(Xtrain, ytrain)\n",
    "\n",
    "training_score = f1_score(clf.predict(Xtrain), ytrain)\n",
    "test_score = f1_score(clf.predict(Xtest), ytest)\n",
    "print(\"f1-score en el set de entrenamiento: %0.2f\" % (training_score))\n",
    "print(\"f1-score en el set de prueba:     %0.2f\" % (test_score))\n",
    "print(confusion_matrix(ytest, clf.predict(Xtest)))"
   ]
  },
  {
   "cell_type": "code",
   "execution_count": 10,
   "metadata": {},
   "outputs": [
    {
     "name": "stdout",
     "output_type": "stream",
     "text": [
      "f1-score en el set de entrenamiento: 0.98\n",
      "f1-score en el set de prueba:     0.40\n",
      "[[403   6]\n",
      " [ 52  19]]\n"
     ]
    },
    {
     "name": "stderr",
     "output_type": "stream",
     "text": [
      "/anaconda3/lib/python3.6/site-packages/sklearn/ensemble/forest.py:453: UserWarning: Some inputs do not have OOB scores. This probably means too few trees were used to compute any reliable oob estimates.\n",
      "  warn(\"Some inputs do not have OOB scores. \"\n",
      "/anaconda3/lib/python3.6/site-packages/sklearn/ensemble/forest.py:458: RuntimeWarning: invalid value encountered in true_divide\n",
      "  predictions[k].sum(axis=1)[:, np.newaxis])\n"
     ]
    }
   ],
   "source": [
    "clfForest = RandomForestClassifier(n_estimators=10, oob_score=True, max_features='auto')\n",
    "clf=clfForest.fit(Xtrain, ytrain)\n",
    "\n",
    "training_score = f1_score(clf.predict(Xtrain), ytrain)\n",
    "test_score = f1_score(clf.predict(Xtest), ytest)\n",
    "print(\"f1-score en el set de entrenamiento: %0.2f\" % (training_score))\n",
    "print(\"f1-score en el set de prueba:     %0.2f\" % (test_score))\n",
    "print(confusion_matrix(ytest, clf.predict(Xtest)))"
   ]
  },
  {
   "cell_type": "markdown",
   "metadata": {
    "collapsed": true
   },
   "source": [
    "# Podemos Mejorarlo más?"
   ]
  },
  {
   "cell_type": "markdown",
   "metadata": {},
   "source": [
    "Run this, but carefully pal!"
   ]
  },
  {
   "cell_type": "code",
   "execution_count": 12,
   "metadata": {
    "scrolled": true
   },
   "outputs": [
    {
     "name": "stdout",
     "output_type": "stream",
     "text": [
      "{'bootstrap': [True, False],\n",
      " 'max_depth': [10, 20, 30, 40, 50, 60, 70, 80, 90, 100, 110, None],\n",
      " 'max_features': ['auto', 'sqrt'],\n",
      " 'min_samples_leaf': [1, 2, 4],\n",
      " 'min_samples_split': [2, 5, 10],\n",
      " 'n_estimators': [200, 400, 600, 800, 1000, 1200, 1400, 1600, 1800, 2000]}\n"
     ]
    }
   ],
   "source": [
    "from sklearn.model_selection import RandomizedSearchCV\n",
    "\n",
    "# Number of trees in random forest\n",
    "n_estimators = [int(x) for x in np.linspace(start = 200, stop = 2000, num = 10)]\n",
    "# Number of features to consider at every split\n",
    "max_features = ['auto', 'sqrt']\n",
    "# Maximum number of levels in tree\n",
    "max_depth = [int(x) for x in np.linspace(10, 110, num = 11)]\n",
    "max_depth.append(None)\n",
    "# Minimum number of samples required to split a node\n",
    "min_samples_split = [2, 5, 10]\n",
    "# Minimum number of samples required at each leaf node\n",
    "min_samples_leaf = [1, 2, 4]\n",
    "# Method of selecting samples for training each tree\n",
    "bootstrap = [True, False]\n",
    "# Create the random grid\n",
    "random_grid = {'n_estimators': n_estimators,\n",
    "               'max_features': max_features,\n",
    "               'max_depth': max_depth,\n",
    "               'min_samples_split': min_samples_split,\n",
    "               'min_samples_leaf': min_samples_leaf,\n",
    "               'bootstrap': bootstrap}\n",
    "from pprint import pprint\n",
    "# Look at parameters used by our current forest\n",
    "pprint(random_grid)"
   ]
  },
  {
   "cell_type": "code",
   "execution_count": null,
   "metadata": {
    "collapsed": true
   },
   "outputs": [],
   "source": [
    "# Use the random grid to search for best hyperparameters\n",
    "# First create the base model to tune\n",
    "rf = RandomForestRegressor()\n",
    "# Random search of parameters, using 3 fold cross validation, \n",
    "# search across 100 different combinations, and use all available cores\n",
    "rf_random = RandomizedSearchCV(estimator = rf, param_distributions = random_grid, n_iter = 100, cv = 3, verbose=2, random_state=42, n_jobs = -1)\n",
    "# Fit the random search model\n",
    "rf_random.fit(Xtrain, ytrain)"
   ]
  },
  {
   "cell_type": "code",
   "execution_count": null,
   "metadata": {
    "collapsed": true
   },
   "outputs": [],
   "source": [
    "rf_random.best_params_"
   ]
  },
  {
   "cell_type": "code",
   "execution_count": null,
   "metadata": {
    "collapsed": true
   },
   "outputs": [],
   "source": [
    "training_score = f1_score(rf_random.predict(Xtrain), ytrain)\n",
    "test_score = f1_score(rf_random.predict(Xtest), ytest)\n",
    "print(\"f1-score en el set de entrenamiento: %0.2f\" % (training_score))\n",
    "print(\"f1-score en el set de prueba:     %0.2f\" % (test_score))\n",
    "print(confusion_matrix(ytest, rf_random.predict(Xtest)))"
   ]
  },
  {
   "cell_type": "code",
   "execution_count": null,
   "metadata": {
    "collapsed": true
   },
   "outputs": [],
   "source": []
  }
 ],
 "metadata": {
  "kernelspec": {
   "display_name": "Python [conda root]",
   "language": "python",
   "name": "conda-root-py"
  },
  "language_info": {
   "codemirror_mode": {
    "name": "ipython",
    "version": 3
   },
   "file_extension": ".py",
   "mimetype": "text/x-python",
   "name": "python",
   "nbconvert_exporter": "python",
   "pygments_lexer": "ipython3",
   "version": "3.6.7"
  }
 },
 "nbformat": 4,
 "nbformat_minor": 2
}
